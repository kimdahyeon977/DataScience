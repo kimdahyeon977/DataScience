{
 "cells": [
  {
   "cell_type": "code",
   "execution_count": 62,
   "id": "8956e178",
   "metadata": {},
   "outputs": [],
   "source": [
    "import pandas as pd\n",
    "import numpy as np\n",
    "%cd Desktop\n",
    "%cd intern\n",
    "pd.set_option('mode.chained_assignment',  None)"
   ]
  },
  {
   "cell_type": "code",
   "execution_count": 63,
   "id": "fdc463a3",
   "metadata": {},
   "outputs": [
    {
     "name": "stdout",
     "output_type": "stream",
     "text": [
      "['.ipynb_checkpoints', 'cheongwon.csv', '이수율.csv', '진단경험률.csv', '진단경험자의치료율.csv', '최초진단시기.csv', '현재치료율.csv', '혈당.csv']\n"
     ]
    }
   ],
   "source": [
    "import os\n",
    "print(os.listdir(os.getcwd()))"
   ]
  },
  {
   "cell_type": "code",
   "execution_count": 112,
   "id": "63bafa44",
   "metadata": {},
   "outputs": [],
   "source": [
    "data=pd.read_csv('이수율.csv',header=1)"
   ]
  },
  {
   "cell_type": "code",
   "execution_count": 113,
   "id": "49c1ded3",
   "metadata": {},
   "outputs": [
    {
     "data": {
      "text/html": [
       "<div>\n",
       "<style scoped>\n",
       "    .dataframe tbody tr th:only-of-type {\n",
       "        vertical-align: middle;\n",
       "    }\n",
       "\n",
       "    .dataframe tbody tr th {\n",
       "        vertical-align: top;\n",
       "    }\n",
       "\n",
       "    .dataframe thead th {\n",
       "        text-align: right;\n",
       "    }\n",
       "</style>\n",
       "<table border=\"1\" class=\"dataframe\">\n",
       "  <thead>\n",
       "    <tr style=\"text-align: right;\">\n",
       "      <th></th>\n",
       "      <th>(단위: %)</th>\n",
       "      <th>Unnamed: 1</th>\n",
       "      <th>Unnamed: 2</th>\n",
       "      <th>Unnamed: 3</th>\n",
       "      <th>Unnamed: 4</th>\n",
       "      <th>Unnamed: 5</th>\n",
       "      <th>Unnamed: 6</th>\n",
       "      <th>Unnamed: 7</th>\n",
       "      <th>Unnamed: 8</th>\n",
       "      <th>Unnamed: 9</th>\n",
       "    </tr>\n",
       "  </thead>\n",
       "  <tbody>\n",
       "    <tr>\n",
       "      <th>0</th>\n",
       "      <td>구분</td>\n",
       "      <td>전체</td>\n",
       "      <td>NaN</td>\n",
       "      <td>NaN</td>\n",
       "      <td>남자</td>\n",
       "      <td>NaN</td>\n",
       "      <td>NaN</td>\n",
       "      <td>여자</td>\n",
       "      <td>NaN</td>\n",
       "      <td>NaN</td>\n",
       "    </tr>\n",
       "    <tr>\n",
       "      <th>1</th>\n",
       "      <td>NaN</td>\n",
       "      <td>N</td>\n",
       "      <td>%(표준오차)</td>\n",
       "      <td>상대표준오차</td>\n",
       "      <td>N</td>\n",
       "      <td>%(표준오차)</td>\n",
       "      <td>상대표준오차</td>\n",
       "      <td>N</td>\n",
       "      <td>%(표준오차)</td>\n",
       "      <td>상대표준오차</td>\n",
       "    </tr>\n",
       "    <tr>\n",
       "      <th>2</th>\n",
       "      <td>전체1)</td>\n",
       "      <td>185</td>\n",
       "      <td>29.8(3.8)</td>\n",
       "      <td>12.6</td>\n",
       "      <td>97</td>\n",
       "      <td>31.4(5.4)</td>\n",
       "      <td>17.2</td>\n",
       "      <td>88</td>\n",
       "      <td>27.9(4.6)</td>\n",
       "      <td>16.5</td>\n",
       "    </tr>\n",
       "    <tr>\n",
       "      <th>3</th>\n",
       "      <td>30세 이상2)</td>\n",
       "      <td>188</td>\n",
       "      <td>30.5(3.7)</td>\n",
       "      <td>12.0</td>\n",
       "      <td>100</td>\n",
       "      <td>32.7(5.3)</td>\n",
       "      <td>16.2</td>\n",
       "      <td>88</td>\n",
       "      <td>27.9(4.6)</td>\n",
       "      <td>16.5</td>\n",
       "    </tr>\n",
       "    <tr>\n",
       "      <th>4</th>\n",
       "      <td>연령</td>\n",
       "      <td>NaN</td>\n",
       "      <td>NaN</td>\n",
       "      <td>NaN</td>\n",
       "      <td>NaN</td>\n",
       "      <td>NaN</td>\n",
       "      <td>NaN</td>\n",
       "      <td>NaN</td>\n",
       "      <td>NaN</td>\n",
       "      <td>NaN</td>\n",
       "    </tr>\n",
       "    <tr>\n",
       "      <th>5</th>\n",
       "      <td>19-29</td>\n",
       "      <td>3</td>\n",
       "      <td>-(-)</td>\n",
       "      <td>-</td>\n",
       "      <td>3</td>\n",
       "      <td>-(-)</td>\n",
       "      <td>-</td>\n",
       "      <td>0</td>\n",
       "      <td>-(-)</td>\n",
       "      <td>-</td>\n",
       "    </tr>\n",
       "    <tr>\n",
       "      <th>6</th>\n",
       "      <td>30-39</td>\n",
       "      <td>6</td>\n",
       "      <td>-(-)</td>\n",
       "      <td>-</td>\n",
       "      <td>3</td>\n",
       "      <td>-(-)</td>\n",
       "      <td>-</td>\n",
       "      <td>3</td>\n",
       "      <td>-(-)</td>\n",
       "      <td>-</td>\n",
       "    </tr>\n",
       "    <tr>\n",
       "      <th>7</th>\n",
       "      <td>40-49</td>\n",
       "      <td>21</td>\n",
       "      <td>47.8(12.2)</td>\n",
       "      <td>25.6</td>\n",
       "      <td>12</td>\n",
       "      <td>-(-)</td>\n",
       "      <td>-</td>\n",
       "      <td>9</td>\n",
       "      <td>-(-)</td>\n",
       "      <td>-</td>\n",
       "    </tr>\n",
       "    <tr>\n",
       "      <th>8</th>\n",
       "      <td>50-59</td>\n",
       "      <td>43</td>\n",
       "      <td>34.5(7.4)</td>\n",
       "      <td>21.5</td>\n",
       "      <td>27</td>\n",
       "      <td>36.8(9.2)</td>\n",
       "      <td>24.9</td>\n",
       "      <td>16</td>\n",
       "      <td>-(-)</td>\n",
       "      <td>-</td>\n",
       "    </tr>\n",
       "    <tr>\n",
       "      <th>9</th>\n",
       "      <td>60-69</td>\n",
       "      <td>57</td>\n",
       "      <td>28.4(6.5)</td>\n",
       "      <td>22.7</td>\n",
       "      <td>29</td>\n",
       "      <td>31.2(9.4)</td>\n",
       "      <td>30.1</td>\n",
       "      <td>28</td>\n",
       "      <td>25.4(8.3)</td>\n",
       "      <td>32.5</td>\n",
       "    </tr>\n",
       "    <tr>\n",
       "      <th>10</th>\n",
       "      <td>70 이상</td>\n",
       "      <td>58</td>\n",
       "      <td>18.8(5.0)</td>\n",
       "      <td>26.8</td>\n",
       "      <td>26</td>\n",
       "      <td>16.3(6.8)</td>\n",
       "      <td>42.0</td>\n",
       "      <td>32</td>\n",
       "      <td>20.9(6.3)</td>\n",
       "      <td>30.2</td>\n",
       "    </tr>\n",
       "    <tr>\n",
       "      <th>11</th>\n",
       "      <td>NaN</td>\n",
       "      <td>NaN</td>\n",
       "      <td>NaN</td>\n",
       "      <td>NaN</td>\n",
       "      <td>NaN</td>\n",
       "      <td>NaN</td>\n",
       "      <td>NaN</td>\n",
       "      <td>NaN</td>\n",
       "      <td>NaN</td>\n",
       "      <td>NaN</td>\n",
       "    </tr>\n",
       "    <tr>\n",
       "      <th>12</th>\n",
       "      <td>19-64</td>\n",
       "      <td>103</td>\n",
       "      <td>40.2(5.0)</td>\n",
       "      <td>12.4</td>\n",
       "      <td>61</td>\n",
       "      <td>44.8(6.5)</td>\n",
       "      <td>14.6</td>\n",
       "      <td>42</td>\n",
       "      <td>32.7(6.7)</td>\n",
       "      <td>20.5</td>\n",
       "    </tr>\n",
       "    <tr>\n",
       "      <th>13</th>\n",
       "      <td>65 이상</td>\n",
       "      <td>85</td>\n",
       "      <td>18.8(5.0)</td>\n",
       "      <td>26.5</td>\n",
       "      <td>39</td>\n",
       "      <td>13.3(5.5)</td>\n",
       "      <td>41.4</td>\n",
       "      <td>46</td>\n",
       "      <td>23.7(6.6)</td>\n",
       "      <td>27.9</td>\n",
       "    </tr>\n",
       "    <tr>\n",
       "      <th>14</th>\n",
       "      <td>교육수준3)</td>\n",
       "      <td>NaN</td>\n",
       "      <td>NaN</td>\n",
       "      <td>NaN</td>\n",
       "      <td>NaN</td>\n",
       "      <td>NaN</td>\n",
       "      <td>NaN</td>\n",
       "      <td>NaN</td>\n",
       "      <td>NaN</td>\n",
       "      <td>NaN</td>\n",
       "    </tr>\n",
       "    <tr>\n",
       "      <th>15</th>\n",
       "      <td>무학</td>\n",
       "      <td>17</td>\n",
       "      <td>-(-)</td>\n",
       "      <td>-</td>\n",
       "      <td>2</td>\n",
       "      <td>-(-)</td>\n",
       "      <td>-</td>\n",
       "      <td>15</td>\n",
       "      <td>-(-)</td>\n",
       "      <td>-</td>\n",
       "    </tr>\n",
       "    <tr>\n",
       "      <th>16</th>\n",
       "      <td>초등학교</td>\n",
       "      <td>37</td>\n",
       "      <td>20.8(7.4)</td>\n",
       "      <td>35.6</td>\n",
       "      <td>16</td>\n",
       "      <td>-(-)</td>\n",
       "      <td>-</td>\n",
       "      <td>21</td>\n",
       "      <td>16.0(8.2)</td>\n",
       "      <td>51.3</td>\n",
       "    </tr>\n",
       "    <tr>\n",
       "      <th>17</th>\n",
       "      <td>중학교</td>\n",
       "      <td>33</td>\n",
       "      <td>33.4(7.2)</td>\n",
       "      <td>21.6</td>\n",
       "      <td>13</td>\n",
       "      <td>-(-)</td>\n",
       "      <td>-</td>\n",
       "      <td>20</td>\n",
       "      <td>50.7(9.4)</td>\n",
       "      <td>18.5</td>\n",
       "    </tr>\n",
       "    <tr>\n",
       "      <th>18</th>\n",
       "      <td>고등학교</td>\n",
       "      <td>56</td>\n",
       "      <td>34.6(7.2)</td>\n",
       "      <td>20.9</td>\n",
       "      <td>34</td>\n",
       "      <td>39.7(9.2)</td>\n",
       "      <td>23.2</td>\n",
       "      <td>22</td>\n",
       "      <td>25.9(9.2)</td>\n",
       "      <td>35.4</td>\n",
       "    </tr>\n",
       "    <tr>\n",
       "      <th>19</th>\n",
       "      <td>대학교 이상</td>\n",
       "      <td>45</td>\n",
       "      <td>36.4(7.5)</td>\n",
       "      <td>20.7</td>\n",
       "      <td>35</td>\n",
       "      <td>38.6(8.6)</td>\n",
       "      <td>22.4</td>\n",
       "      <td>10</td>\n",
       "      <td>-(-)</td>\n",
       "      <td>-</td>\n",
       "    </tr>\n",
       "  </tbody>\n",
       "</table>\n",
       "</div>"
      ],
      "text/plain": [
       "     (단위: %) Unnamed: 1  Unnamed: 2 Unnamed: 3 Unnamed: 4 Unnamed: 5  \\\n",
       "0         구분         전체         NaN        NaN         남자        NaN   \n",
       "1        NaN          N     %(표준오차)     상대표준오차          N    %(표준오차)   \n",
       "2       전체1)        185   29.8(3.8)       12.6         97  31.4(5.4)   \n",
       "3   30세 이상2)        188   30.5(3.7)       12.0        100  32.7(5.3)   \n",
       "4         연령        NaN         NaN        NaN        NaN        NaN   \n",
       "5      19-29          3        -(-)          -          3       -(-)   \n",
       "6      30-39          6        -(-)          -          3       -(-)   \n",
       "7      40-49         21  47.8(12.2)       25.6         12       -(-)   \n",
       "8      50-59         43   34.5(7.4)       21.5         27  36.8(9.2)   \n",
       "9      60-69         57   28.4(6.5)       22.7         29  31.2(9.4)   \n",
       "10     70 이상         58   18.8(5.0)       26.8         26  16.3(6.8)   \n",
       "11       NaN        NaN         NaN        NaN        NaN        NaN   \n",
       "12     19-64        103   40.2(5.0)       12.4         61  44.8(6.5)   \n",
       "13     65 이상         85   18.8(5.0)       26.5         39  13.3(5.5)   \n",
       "14    교육수준3)        NaN         NaN        NaN        NaN        NaN   \n",
       "15        무학         17        -(-)          -          2       -(-)   \n",
       "16      초등학교         37   20.8(7.4)       35.6         16       -(-)   \n",
       "17       중학교         33   33.4(7.2)       21.6         13       -(-)   \n",
       "18      고등학교         56   34.6(7.2)       20.9         34  39.7(9.2)   \n",
       "19    대학교 이상         45   36.4(7.5)       20.7         35  38.6(8.6)   \n",
       "\n",
       "   Unnamed: 6 Unnamed: 7 Unnamed: 8 Unnamed: 9  \n",
       "0         NaN         여자        NaN        NaN  \n",
       "1      상대표준오차          N    %(표준오차)     상대표준오차  \n",
       "2        17.2         88  27.9(4.6)       16.5  \n",
       "3        16.2         88  27.9(4.6)       16.5  \n",
       "4         NaN        NaN        NaN        NaN  \n",
       "5           -          0       -(-)          -  \n",
       "6           -          3       -(-)          -  \n",
       "7           -          9       -(-)          -  \n",
       "8        24.9         16       -(-)          -  \n",
       "9        30.1         28  25.4(8.3)       32.5  \n",
       "10       42.0         32  20.9(6.3)       30.2  \n",
       "11        NaN        NaN        NaN        NaN  \n",
       "12       14.6         42  32.7(6.7)       20.5  \n",
       "13       41.4         46  23.7(6.6)       27.9  \n",
       "14        NaN        NaN        NaN        NaN  \n",
       "15          -         15       -(-)          -  \n",
       "16          -         21  16.0(8.2)       51.3  \n",
       "17          -         20  50.7(9.4)       18.5  \n",
       "18       23.2         22  25.9(9.2)       35.4  \n",
       "19       22.4         10       -(-)          -  "
      ]
     },
     "execution_count": 113,
     "metadata": {},
     "output_type": "execute_result"
    }
   ],
   "source": [
    "data.head(20)"
   ]
  },
  {
   "cell_type": "code",
   "execution_count": 139,
   "id": "1827ca85",
   "metadata": {},
   "outputs": [],
   "source": [
    "age_data=data[4:11]"
   ]
  },
  {
   "cell_type": "code",
   "execution_count": 140,
   "id": "6d87ee00",
   "metadata": {
    "scrolled": false
   },
   "outputs": [],
   "source": [
    "def pre(df):\n",
    "    tmp=['N','전체표준오차','전체상대표준오차','남자','표준오차','상대표준오차','여자','표준오차','상대표준오차']\n",
    "    for i in range(0,len(tmp)):\n",
    "        df.iloc[0,i+1] = tmp[i]\n",
    "    return df"
   ]
  },
  {
   "cell_type": "code",
   "execution_count": 141,
   "id": "1c8fc923",
   "metadata": {},
   "outputs": [],
   "source": [
    "age_data=pre(age_data)"
   ]
  },
  {
   "cell_type": "code",
   "execution_count": 142,
   "id": "51a19a84",
   "metadata": {},
   "outputs": [
    {
     "data": {
      "text/html": [
       "<div>\n",
       "<style scoped>\n",
       "    .dataframe tbody tr th:only-of-type {\n",
       "        vertical-align: middle;\n",
       "    }\n",
       "\n",
       "    .dataframe tbody tr th {\n",
       "        vertical-align: top;\n",
       "    }\n",
       "\n",
       "    .dataframe thead th {\n",
       "        text-align: right;\n",
       "    }\n",
       "</style>\n",
       "<table border=\"1\" class=\"dataframe\">\n",
       "  <thead>\n",
       "    <tr style=\"text-align: right;\">\n",
       "      <th></th>\n",
       "      <th>(단위: %)</th>\n",
       "      <th>Unnamed: 1</th>\n",
       "      <th>Unnamed: 2</th>\n",
       "      <th>Unnamed: 3</th>\n",
       "      <th>Unnamed: 4</th>\n",
       "      <th>Unnamed: 5</th>\n",
       "      <th>Unnamed: 6</th>\n",
       "      <th>Unnamed: 7</th>\n",
       "      <th>Unnamed: 8</th>\n",
       "      <th>Unnamed: 9</th>\n",
       "    </tr>\n",
       "  </thead>\n",
       "  <tbody>\n",
       "    <tr>\n",
       "      <th>4</th>\n",
       "      <td>연령</td>\n",
       "      <td>N</td>\n",
       "      <td>전체표준오차</td>\n",
       "      <td>전체상대표준오차</td>\n",
       "      <td>남자</td>\n",
       "      <td>표준오차</td>\n",
       "      <td>상대표준오차</td>\n",
       "      <td>여자</td>\n",
       "      <td>표준오차</td>\n",
       "      <td>상대표준오차</td>\n",
       "    </tr>\n",
       "    <tr>\n",
       "      <th>5</th>\n",
       "      <td>19-29</td>\n",
       "      <td>3</td>\n",
       "      <td>0</td>\n",
       "      <td>0</td>\n",
       "      <td>3</td>\n",
       "      <td>0</td>\n",
       "      <td>0</td>\n",
       "      <td>0</td>\n",
       "      <td>0</td>\n",
       "      <td>0</td>\n",
       "    </tr>\n",
       "    <tr>\n",
       "      <th>6</th>\n",
       "      <td>30-39</td>\n",
       "      <td>6</td>\n",
       "      <td>0</td>\n",
       "      <td>0</td>\n",
       "      <td>3</td>\n",
       "      <td>0</td>\n",
       "      <td>0</td>\n",
       "      <td>3</td>\n",
       "      <td>0</td>\n",
       "      <td>0</td>\n",
       "    </tr>\n",
       "    <tr>\n",
       "      <th>7</th>\n",
       "      <td>40-49</td>\n",
       "      <td>21</td>\n",
       "      <td>47.8(12.2)</td>\n",
       "      <td>25.6</td>\n",
       "      <td>12</td>\n",
       "      <td>0</td>\n",
       "      <td>0</td>\n",
       "      <td>9</td>\n",
       "      <td>0</td>\n",
       "      <td>0</td>\n",
       "    </tr>\n",
       "    <tr>\n",
       "      <th>8</th>\n",
       "      <td>50-59</td>\n",
       "      <td>43</td>\n",
       "      <td>34.5(7.4)</td>\n",
       "      <td>21.5</td>\n",
       "      <td>27</td>\n",
       "      <td>36.8(9.2)</td>\n",
       "      <td>24.9</td>\n",
       "      <td>16</td>\n",
       "      <td>0</td>\n",
       "      <td>0</td>\n",
       "    </tr>\n",
       "  </tbody>\n",
       "</table>\n",
       "</div>"
      ],
      "text/plain": [
       "  (단위: %) Unnamed: 1  Unnamed: 2 Unnamed: 3 Unnamed: 4 Unnamed: 5 Unnamed: 6  \\\n",
       "4      연령          N      전체표준오차   전체상대표준오차         남자       표준오차     상대표준오차   \n",
       "5   19-29          3           0          0          3          0          0   \n",
       "6   30-39          6           0          0          3          0          0   \n",
       "7   40-49         21  47.8(12.2)       25.6         12          0          0   \n",
       "8   50-59         43   34.5(7.4)       21.5         27  36.8(9.2)       24.9   \n",
       "\n",
       "  Unnamed: 7 Unnamed: 8 Unnamed: 9  \n",
       "4         여자       표준오차     상대표준오차  \n",
       "5          0          0          0  \n",
       "6          3          0          0  \n",
       "7          9          0          0  \n",
       "8         16          0          0  "
      ]
     },
     "execution_count": 142,
     "metadata": {},
     "output_type": "execute_result"
    }
   ],
   "source": [
    "def pre2(df):\n",
    "    df=df.replace('-(-)',0)\n",
    "    df=df.replace('-',0)\n",
    "    return df\n",
    "age_data=pre2(age_data)\n",
    "age_data.head()"
   ]
  },
  {
   "cell_type": "code",
   "execution_count": 188,
   "id": "8368cf8a",
   "metadata": {},
   "outputs": [
    {
     "data": {
      "text/html": [
       "<div>\n",
       "<style scoped>\n",
       "    .dataframe tbody tr th:only-of-type {\n",
       "        vertical-align: middle;\n",
       "    }\n",
       "\n",
       "    .dataframe tbody tr th {\n",
       "        vertical-align: top;\n",
       "    }\n",
       "\n",
       "    .dataframe thead th {\n",
       "        text-align: right;\n",
       "    }\n",
       "</style>\n",
       "<table border=\"1\" class=\"dataframe\">\n",
       "  <thead>\n",
       "    <tr style=\"text-align: right;\">\n",
       "      <th></th>\n",
       "      <th>(단위: %)</th>\n",
       "      <th>Unnamed: 1</th>\n",
       "      <th>Unnamed: 2</th>\n",
       "      <th>Unnamed: 3</th>\n",
       "      <th>Unnamed: 4</th>\n",
       "      <th>Unnamed: 5</th>\n",
       "      <th>Unnamed: 6</th>\n",
       "      <th>Unnamed: 7</th>\n",
       "      <th>Unnamed: 8</th>\n",
       "      <th>Unnamed: 9</th>\n",
       "    </tr>\n",
       "  </thead>\n",
       "  <tbody>\n",
       "    <tr>\n",
       "      <th>14</th>\n",
       "      <td>교육수준3)</td>\n",
       "      <td>NaN</td>\n",
       "      <td>NaN</td>\n",
       "      <td>NaN</td>\n",
       "      <td>NaN</td>\n",
       "      <td>NaN</td>\n",
       "      <td>NaN</td>\n",
       "      <td>NaN</td>\n",
       "      <td>NaN</td>\n",
       "      <td>NaN</td>\n",
       "    </tr>\n",
       "    <tr>\n",
       "      <th>15</th>\n",
       "      <td>무학</td>\n",
       "      <td>17</td>\n",
       "      <td>-(-)</td>\n",
       "      <td>-</td>\n",
       "      <td>2</td>\n",
       "      <td>-(-)</td>\n",
       "      <td>-</td>\n",
       "      <td>15</td>\n",
       "      <td>-(-)</td>\n",
       "      <td>-</td>\n",
       "    </tr>\n",
       "    <tr>\n",
       "      <th>16</th>\n",
       "      <td>초등학교</td>\n",
       "      <td>37</td>\n",
       "      <td>20.8(7.4)</td>\n",
       "      <td>35.6</td>\n",
       "      <td>16</td>\n",
       "      <td>-(-)</td>\n",
       "      <td>-</td>\n",
       "      <td>21</td>\n",
       "      <td>16.0(8.2)</td>\n",
       "      <td>51.3</td>\n",
       "    </tr>\n",
       "    <tr>\n",
       "      <th>17</th>\n",
       "      <td>중학교</td>\n",
       "      <td>33</td>\n",
       "      <td>33.4(7.2)</td>\n",
       "      <td>21.6</td>\n",
       "      <td>13</td>\n",
       "      <td>-(-)</td>\n",
       "      <td>-</td>\n",
       "      <td>20</td>\n",
       "      <td>50.7(9.4)</td>\n",
       "      <td>18.5</td>\n",
       "    </tr>\n",
       "    <tr>\n",
       "      <th>18</th>\n",
       "      <td>고등학교</td>\n",
       "      <td>56</td>\n",
       "      <td>34.6(7.2)</td>\n",
       "      <td>20.9</td>\n",
       "      <td>34</td>\n",
       "      <td>39.7(9.2)</td>\n",
       "      <td>23.2</td>\n",
       "      <td>22</td>\n",
       "      <td>25.9(9.2)</td>\n",
       "      <td>35.4</td>\n",
       "    </tr>\n",
       "    <tr>\n",
       "      <th>19</th>\n",
       "      <td>대학교 이상</td>\n",
       "      <td>45</td>\n",
       "      <td>36.4(7.5)</td>\n",
       "      <td>20.7</td>\n",
       "      <td>35</td>\n",
       "      <td>38.6(8.6)</td>\n",
       "      <td>22.4</td>\n",
       "      <td>10</td>\n",
       "      <td>-(-)</td>\n",
       "      <td>-</td>\n",
       "    </tr>\n",
       "  </tbody>\n",
       "</table>\n",
       "</div>"
      ],
      "text/plain": [
       "   (단위: %) Unnamed: 1 Unnamed: 2 Unnamed: 3 Unnamed: 4 Unnamed: 5 Unnamed: 6  \\\n",
       "14  교육수준3)        NaN        NaN        NaN        NaN        NaN        NaN   \n",
       "15      무학         17       -(-)          -          2       -(-)          -   \n",
       "16    초등학교         37  20.8(7.4)       35.6         16       -(-)          -   \n",
       "17     중학교         33  33.4(7.2)       21.6         13       -(-)          -   \n",
       "18    고등학교         56  34.6(7.2)       20.9         34  39.7(9.2)       23.2   \n",
       "19  대학교 이상         45  36.4(7.5)       20.7         35  38.6(8.6)       22.4   \n",
       "\n",
       "   Unnamed: 7 Unnamed: 8 Unnamed: 9  \n",
       "14        NaN        NaN        NaN  \n",
       "15         15       -(-)          -  \n",
       "16         21  16.0(8.2)       51.3  \n",
       "17         20  50.7(9.4)       18.5  \n",
       "18         22  25.9(9.2)       35.4  \n",
       "19         10       -(-)          -  "
      ]
     },
     "execution_count": 188,
     "metadata": {},
     "output_type": "execute_result"
    }
   ],
   "source": [
    "edu_data=data[14:20]\n",
    "edu_data"
   ]
  },
  {
   "cell_type": "code",
   "execution_count": 189,
   "id": "3235b673",
   "metadata": {},
   "outputs": [
    {
     "data": {
      "text/html": [
       "<div>\n",
       "<style scoped>\n",
       "    .dataframe tbody tr th:only-of-type {\n",
       "        vertical-align: middle;\n",
       "    }\n",
       "\n",
       "    .dataframe tbody tr th {\n",
       "        vertical-align: top;\n",
       "    }\n",
       "\n",
       "    .dataframe thead th {\n",
       "        text-align: right;\n",
       "    }\n",
       "</style>\n",
       "<table border=\"1\" class=\"dataframe\">\n",
       "  <thead>\n",
       "    <tr style=\"text-align: right;\">\n",
       "      <th></th>\n",
       "      <th>(단위: %)</th>\n",
       "      <th>Unnamed: 1</th>\n",
       "      <th>Unnamed: 2</th>\n",
       "      <th>Unnamed: 3</th>\n",
       "      <th>Unnamed: 4</th>\n",
       "      <th>Unnamed: 5</th>\n",
       "      <th>Unnamed: 6</th>\n",
       "      <th>Unnamed: 7</th>\n",
       "      <th>Unnamed: 8</th>\n",
       "      <th>Unnamed: 9</th>\n",
       "    </tr>\n",
       "  </thead>\n",
       "  <tbody>\n",
       "    <tr>\n",
       "      <th>14</th>\n",
       "      <td>교육수준3)</td>\n",
       "      <td>N</td>\n",
       "      <td>전체표준오차</td>\n",
       "      <td>전체상대표준오차</td>\n",
       "      <td>남자</td>\n",
       "      <td>표준오차</td>\n",
       "      <td>상대표준오차</td>\n",
       "      <td>여자</td>\n",
       "      <td>표준오차</td>\n",
       "      <td>상대표준오차</td>\n",
       "    </tr>\n",
       "    <tr>\n",
       "      <th>15</th>\n",
       "      <td>무학</td>\n",
       "      <td>17</td>\n",
       "      <td>0</td>\n",
       "      <td>0</td>\n",
       "      <td>2</td>\n",
       "      <td>0</td>\n",
       "      <td>0</td>\n",
       "      <td>15</td>\n",
       "      <td>0</td>\n",
       "      <td>0</td>\n",
       "    </tr>\n",
       "    <tr>\n",
       "      <th>16</th>\n",
       "      <td>초등학교</td>\n",
       "      <td>37</td>\n",
       "      <td>20.8(7.4)</td>\n",
       "      <td>35.6</td>\n",
       "      <td>16</td>\n",
       "      <td>0</td>\n",
       "      <td>0</td>\n",
       "      <td>21</td>\n",
       "      <td>16.0(8.2)</td>\n",
       "      <td>51.3</td>\n",
       "    </tr>\n",
       "    <tr>\n",
       "      <th>17</th>\n",
       "      <td>중학교</td>\n",
       "      <td>33</td>\n",
       "      <td>33.4(7.2)</td>\n",
       "      <td>21.6</td>\n",
       "      <td>13</td>\n",
       "      <td>0</td>\n",
       "      <td>0</td>\n",
       "      <td>20</td>\n",
       "      <td>50.7(9.4)</td>\n",
       "      <td>18.5</td>\n",
       "    </tr>\n",
       "    <tr>\n",
       "      <th>18</th>\n",
       "      <td>고등학교</td>\n",
       "      <td>56</td>\n",
       "      <td>34.6(7.2)</td>\n",
       "      <td>20.9</td>\n",
       "      <td>34</td>\n",
       "      <td>39.7(9.2)</td>\n",
       "      <td>23.2</td>\n",
       "      <td>22</td>\n",
       "      <td>25.9(9.2)</td>\n",
       "      <td>35.4</td>\n",
       "    </tr>\n",
       "  </tbody>\n",
       "</table>\n",
       "</div>"
      ],
      "text/plain": [
       "   (단위: %) Unnamed: 1 Unnamed: 2 Unnamed: 3 Unnamed: 4 Unnamed: 5 Unnamed: 6  \\\n",
       "14  교육수준3)          N     전체표준오차   전체상대표준오차         남자       표준오차     상대표준오차   \n",
       "15      무학         17          0          0          2          0          0   \n",
       "16    초등학교         37  20.8(7.4)       35.6         16          0          0   \n",
       "17     중학교         33  33.4(7.2)       21.6         13          0          0   \n",
       "18    고등학교         56  34.6(7.2)       20.9         34  39.7(9.2)       23.2   \n",
       "\n",
       "   Unnamed: 7 Unnamed: 8 Unnamed: 9  \n",
       "14         여자       표준오차     상대표준오차  \n",
       "15         15          0          0  \n",
       "16         21  16.0(8.2)       51.3  \n",
       "17         20  50.7(9.4)       18.5  \n",
       "18         22  25.9(9.2)       35.4  "
      ]
     },
     "execution_count": 189,
     "metadata": {},
     "output_type": "execute_result"
    }
   ],
   "source": [
    "edu_data=pre(edu_data)\n",
    "edu_data=pre2(edu_data)\n",
    "edu_data.head()"
   ]
  },
  {
   "cell_type": "code",
   "execution_count": 190,
   "id": "6aec20e7",
   "metadata": {},
   "outputs": [
    {
     "data": {
      "text/html": [
       "<div>\n",
       "<style scoped>\n",
       "    .dataframe tbody tr th:only-of-type {\n",
       "        vertical-align: middle;\n",
       "    }\n",
       "\n",
       "    .dataframe tbody tr th {\n",
       "        vertical-align: top;\n",
       "    }\n",
       "\n",
       "    .dataframe thead th {\n",
       "        text-align: right;\n",
       "    }\n",
       "</style>\n",
       "<table border=\"1\" class=\"dataframe\">\n",
       "  <thead>\n",
       "    <tr style=\"text-align: right;\">\n",
       "      <th></th>\n",
       "      <th>(단위: %)</th>\n",
       "      <th>Unnamed: 1</th>\n",
       "      <th>Unnamed: 2</th>\n",
       "      <th>Unnamed: 3</th>\n",
       "      <th>Unnamed: 4</th>\n",
       "      <th>Unnamed: 5</th>\n",
       "      <th>Unnamed: 6</th>\n",
       "      <th>Unnamed: 7</th>\n",
       "      <th>Unnamed: 8</th>\n",
       "      <th>Unnamed: 9</th>\n",
       "    </tr>\n",
       "  </thead>\n",
       "  <tbody>\n",
       "    <tr>\n",
       "      <th>20</th>\n",
       "      <td>직업</td>\n",
       "      <td>NaN</td>\n",
       "      <td>NaN</td>\n",
       "      <td>NaN</td>\n",
       "      <td>NaN</td>\n",
       "      <td>NaN</td>\n",
       "      <td>NaN</td>\n",
       "      <td>NaN</td>\n",
       "      <td>NaN</td>\n",
       "      <td>NaN</td>\n",
       "    </tr>\n",
       "    <tr>\n",
       "      <th>21</th>\n",
       "      <td>전문행정관리</td>\n",
       "      <td>7</td>\n",
       "      <td>-(-)</td>\n",
       "      <td>-</td>\n",
       "      <td>5</td>\n",
       "      <td>-(-)</td>\n",
       "      <td>-</td>\n",
       "      <td>2</td>\n",
       "      <td>-(-)</td>\n",
       "      <td>-</td>\n",
       "    </tr>\n",
       "    <tr>\n",
       "      <th>22</th>\n",
       "      <td>사무직</td>\n",
       "      <td>11</td>\n",
       "      <td>-(-)</td>\n",
       "      <td>-</td>\n",
       "      <td>9</td>\n",
       "      <td>-(-)</td>\n",
       "      <td>-</td>\n",
       "      <td>2</td>\n",
       "      <td>-(-)</td>\n",
       "      <td>-</td>\n",
       "    </tr>\n",
       "    <tr>\n",
       "      <th>23</th>\n",
       "      <td>판매･서비스직</td>\n",
       "      <td>23</td>\n",
       "      <td>23.8(8.6)</td>\n",
       "      <td>35.9</td>\n",
       "      <td>11</td>\n",
       "      <td>-(-)</td>\n",
       "      <td>-</td>\n",
       "      <td>12</td>\n",
       "      <td>-(-)</td>\n",
       "      <td>-</td>\n",
       "    </tr>\n",
       "    <tr>\n",
       "      <th>24</th>\n",
       "      <td>농림어업</td>\n",
       "      <td>7</td>\n",
       "      <td>-(-)</td>\n",
       "      <td>-</td>\n",
       "      <td>3</td>\n",
       "      <td>-(-)</td>\n",
       "      <td>-</td>\n",
       "      <td>4</td>\n",
       "      <td>-(-)</td>\n",
       "      <td>-</td>\n",
       "    </tr>\n",
       "    <tr>\n",
       "      <th>25</th>\n",
       "      <td>기능단순노무직</td>\n",
       "      <td>51</td>\n",
       "      <td>41.3(7.2)</td>\n",
       "      <td>17.4</td>\n",
       "      <td>36</td>\n",
       "      <td>43.5(8.3)</td>\n",
       "      <td>19.1</td>\n",
       "      <td>15</td>\n",
       "      <td>-(-)</td>\n",
       "      <td>-</td>\n",
       "    </tr>\n",
       "    <tr>\n",
       "      <th>26</th>\n",
       "      <td>기타4)</td>\n",
       "      <td>89</td>\n",
       "      <td>23.8(4.3)</td>\n",
       "      <td>18.0</td>\n",
       "      <td>36</td>\n",
       "      <td>23.7(6.6)</td>\n",
       "      <td>27.8</td>\n",
       "      <td>53</td>\n",
       "      <td>23.9(5.6)</td>\n",
       "      <td>23.4</td>\n",
       "    </tr>\n",
       "  </tbody>\n",
       "</table>\n",
       "</div>"
      ],
      "text/plain": [
       "    (단위: %) Unnamed: 1 Unnamed: 2 Unnamed: 3 Unnamed: 4 Unnamed: 5 Unnamed: 6  \\\n",
       "20       직업        NaN        NaN        NaN        NaN        NaN        NaN   \n",
       "21   전문행정관리          7       -(-)          -          5       -(-)          -   \n",
       "22      사무직         11       -(-)          -          9       -(-)          -   \n",
       "23  판매･서비스직         23  23.8(8.6)       35.9         11       -(-)          -   \n",
       "24     농림어업          7       -(-)          -          3       -(-)          -   \n",
       "25  기능단순노무직         51  41.3(7.2)       17.4         36  43.5(8.3)       19.1   \n",
       "26     기타4)         89  23.8(4.3)       18.0         36  23.7(6.6)       27.8   \n",
       "\n",
       "   Unnamed: 7 Unnamed: 8 Unnamed: 9  \n",
       "20        NaN        NaN        NaN  \n",
       "21          2       -(-)          -  \n",
       "22          2       -(-)          -  \n",
       "23         12       -(-)          -  \n",
       "24          4       -(-)          -  \n",
       "25         15       -(-)          -  \n",
       "26         53  23.9(5.6)       23.4  "
      ]
     },
     "execution_count": 190,
     "metadata": {},
     "output_type": "execute_result"
    }
   ],
   "source": [
    "job_data=data[20:27]\n",
    "job_data"
   ]
  },
  {
   "cell_type": "code",
   "execution_count": 191,
   "id": "c13f1cac",
   "metadata": {},
   "outputs": [
    {
     "data": {
      "text/html": [
       "<div>\n",
       "<style scoped>\n",
       "    .dataframe tbody tr th:only-of-type {\n",
       "        vertical-align: middle;\n",
       "    }\n",
       "\n",
       "    .dataframe tbody tr th {\n",
       "        vertical-align: top;\n",
       "    }\n",
       "\n",
       "    .dataframe thead th {\n",
       "        text-align: right;\n",
       "    }\n",
       "</style>\n",
       "<table border=\"1\" class=\"dataframe\">\n",
       "  <thead>\n",
       "    <tr style=\"text-align: right;\">\n",
       "      <th></th>\n",
       "      <th>(단위: %)</th>\n",
       "      <th>Unnamed: 1</th>\n",
       "      <th>Unnamed: 2</th>\n",
       "      <th>Unnamed: 3</th>\n",
       "      <th>Unnamed: 4</th>\n",
       "      <th>Unnamed: 5</th>\n",
       "      <th>Unnamed: 6</th>\n",
       "      <th>Unnamed: 7</th>\n",
       "      <th>Unnamed: 8</th>\n",
       "      <th>Unnamed: 9</th>\n",
       "    </tr>\n",
       "  </thead>\n",
       "  <tbody>\n",
       "    <tr>\n",
       "      <th>20</th>\n",
       "      <td>직업</td>\n",
       "      <td>N</td>\n",
       "      <td>전체표준오차</td>\n",
       "      <td>전체상대표준오차</td>\n",
       "      <td>남자</td>\n",
       "      <td>표준오차</td>\n",
       "      <td>상대표준오차</td>\n",
       "      <td>여자</td>\n",
       "      <td>표준오차</td>\n",
       "      <td>상대표준오차</td>\n",
       "    </tr>\n",
       "    <tr>\n",
       "      <th>21</th>\n",
       "      <td>전문행정관리</td>\n",
       "      <td>7</td>\n",
       "      <td>0</td>\n",
       "      <td>0</td>\n",
       "      <td>5</td>\n",
       "      <td>0</td>\n",
       "      <td>0</td>\n",
       "      <td>2</td>\n",
       "      <td>0</td>\n",
       "      <td>0</td>\n",
       "    </tr>\n",
       "    <tr>\n",
       "      <th>22</th>\n",
       "      <td>사무직</td>\n",
       "      <td>11</td>\n",
       "      <td>0</td>\n",
       "      <td>0</td>\n",
       "      <td>9</td>\n",
       "      <td>0</td>\n",
       "      <td>0</td>\n",
       "      <td>2</td>\n",
       "      <td>0</td>\n",
       "      <td>0</td>\n",
       "    </tr>\n",
       "    <tr>\n",
       "      <th>23</th>\n",
       "      <td>판매･서비스직</td>\n",
       "      <td>23</td>\n",
       "      <td>23.8(8.6)</td>\n",
       "      <td>35.9</td>\n",
       "      <td>11</td>\n",
       "      <td>0</td>\n",
       "      <td>0</td>\n",
       "      <td>12</td>\n",
       "      <td>0</td>\n",
       "      <td>0</td>\n",
       "    </tr>\n",
       "    <tr>\n",
       "      <th>24</th>\n",
       "      <td>농림어업</td>\n",
       "      <td>7</td>\n",
       "      <td>0</td>\n",
       "      <td>0</td>\n",
       "      <td>3</td>\n",
       "      <td>0</td>\n",
       "      <td>0</td>\n",
       "      <td>4</td>\n",
       "      <td>0</td>\n",
       "      <td>0</td>\n",
       "    </tr>\n",
       "  </tbody>\n",
       "</table>\n",
       "</div>"
      ],
      "text/plain": [
       "    (단위: %) Unnamed: 1 Unnamed: 2 Unnamed: 3 Unnamed: 4 Unnamed: 5 Unnamed: 6  \\\n",
       "20       직업          N     전체표준오차   전체상대표준오차         남자       표준오차     상대표준오차   \n",
       "21   전문행정관리          7          0          0          5          0          0   \n",
       "22      사무직         11          0          0          9          0          0   \n",
       "23  판매･서비스직         23  23.8(8.6)       35.9         11          0          0   \n",
       "24     농림어업          7          0          0          3          0          0   \n",
       "\n",
       "   Unnamed: 7 Unnamed: 8 Unnamed: 9  \n",
       "20         여자       표준오차     상대표준오차  \n",
       "21          2          0          0  \n",
       "22          2          0          0  \n",
       "23         12          0          0  \n",
       "24          4          0          0  "
      ]
     },
     "execution_count": 191,
     "metadata": {},
     "output_type": "execute_result"
    }
   ],
   "source": [
    "job_data=pre(job_data)\n",
    "job_data=pre2(job_data)\n",
    "job_data.head()"
   ]
  },
  {
   "cell_type": "code",
   "execution_count": 192,
   "id": "0bcdda6e",
   "metadata": {},
   "outputs": [
    {
     "data": {
      "text/html": [
       "<div>\n",
       "<style scoped>\n",
       "    .dataframe tbody tr th:only-of-type {\n",
       "        vertical-align: middle;\n",
       "    }\n",
       "\n",
       "    .dataframe tbody tr th {\n",
       "        vertical-align: top;\n",
       "    }\n",
       "\n",
       "    .dataframe thead th {\n",
       "        text-align: right;\n",
       "    }\n",
       "</style>\n",
       "<table border=\"1\" class=\"dataframe\">\n",
       "  <thead>\n",
       "    <tr style=\"text-align: right;\">\n",
       "      <th></th>\n",
       "      <th>(단위: %)</th>\n",
       "      <th>Unnamed: 1</th>\n",
       "      <th>Unnamed: 2</th>\n",
       "      <th>Unnamed: 3</th>\n",
       "      <th>Unnamed: 4</th>\n",
       "      <th>Unnamed: 5</th>\n",
       "      <th>Unnamed: 6</th>\n",
       "      <th>Unnamed: 7</th>\n",
       "      <th>Unnamed: 8</th>\n",
       "      <th>Unnamed: 9</th>\n",
       "    </tr>\n",
       "  </thead>\n",
       "  <tbody>\n",
       "    <tr>\n",
       "      <th>27</th>\n",
       "      <td>월 가구소득</td>\n",
       "      <td>NaN</td>\n",
       "      <td>NaN</td>\n",
       "      <td>NaN</td>\n",
       "      <td>NaN</td>\n",
       "      <td>NaN</td>\n",
       "      <td>NaN</td>\n",
       "      <td>NaN</td>\n",
       "      <td>NaN</td>\n",
       "      <td>NaN</td>\n",
       "    </tr>\n",
       "    <tr>\n",
       "      <th>28</th>\n",
       "      <td>100만원 미만</td>\n",
       "      <td>29</td>\n",
       "      <td>18.6(6.5)</td>\n",
       "      <td>34.8</td>\n",
       "      <td>11</td>\n",
       "      <td>-(-)</td>\n",
       "      <td>-</td>\n",
       "      <td>18</td>\n",
       "      <td>-(-)</td>\n",
       "      <td>-</td>\n",
       "    </tr>\n",
       "    <tr>\n",
       "      <th>29</th>\n",
       "      <td>100-200만원 미만</td>\n",
       "      <td>34</td>\n",
       "      <td>18.4(6.2)</td>\n",
       "      <td>33.4</td>\n",
       "      <td>18</td>\n",
       "      <td>-(-)</td>\n",
       "      <td>-</td>\n",
       "      <td>16</td>\n",
       "      <td>-(-)</td>\n",
       "      <td>-</td>\n",
       "    </tr>\n",
       "    <tr>\n",
       "      <th>30</th>\n",
       "      <td>200-300만원 미만</td>\n",
       "      <td>42</td>\n",
       "      <td>29.8(8.1)</td>\n",
       "      <td>27.0</td>\n",
       "      <td>21</td>\n",
       "      <td>30.8(9.8)</td>\n",
       "      <td>31.9</td>\n",
       "      <td>21</td>\n",
       "      <td>28.9(9.4)</td>\n",
       "      <td>32.7</td>\n",
       "    </tr>\n",
       "    <tr>\n",
       "      <th>31</th>\n",
       "      <td>300-400만원 미만</td>\n",
       "      <td>18</td>\n",
       "      <td>-(-)</td>\n",
       "      <td>-</td>\n",
       "      <td>12</td>\n",
       "      <td>-(-)</td>\n",
       "      <td>-</td>\n",
       "      <td>6</td>\n",
       "      <td>-(-)</td>\n",
       "      <td>-</td>\n",
       "    </tr>\n",
       "    <tr>\n",
       "      <th>32</th>\n",
       "      <td>400만원 이상</td>\n",
       "      <td>65</td>\n",
       "      <td>43.0(6.9)</td>\n",
       "      <td>16.1</td>\n",
       "      <td>38</td>\n",
       "      <td>46.1(8.3)</td>\n",
       "      <td>17.9</td>\n",
       "      <td>27</td>\n",
       "      <td>37.9(9.0)</td>\n",
       "      <td>23.8</td>\n",
       "    </tr>\n",
       "  </tbody>\n",
       "</table>\n",
       "</div>"
      ],
      "text/plain": [
       "         (단위: %) Unnamed: 1 Unnamed: 2 Unnamed: 3 Unnamed: 4 Unnamed: 5  \\\n",
       "27        월 가구소득        NaN        NaN        NaN        NaN        NaN   \n",
       "28     100만원 미만          29  18.6(6.5)       34.8         11       -(-)   \n",
       "29  100-200만원 미만         34  18.4(6.2)       33.4         18       -(-)   \n",
       "30  200-300만원 미만         42  29.8(8.1)       27.0         21  30.8(9.8)   \n",
       "31  300-400만원 미만         18       -(-)          -         12       -(-)   \n",
       "32      400만원 이상         65  43.0(6.9)       16.1         38  46.1(8.3)   \n",
       "\n",
       "   Unnamed: 6 Unnamed: 7 Unnamed: 8 Unnamed: 9  \n",
       "27        NaN        NaN        NaN        NaN  \n",
       "28          -         18       -(-)          -  \n",
       "29          -         16       -(-)          -  \n",
       "30       31.9         21  28.9(9.4)       32.7  \n",
       "31          -          6       -(-)          -  \n",
       "32       17.9         27  37.9(9.0)       23.8  "
      ]
     },
     "execution_count": 192,
     "metadata": {},
     "output_type": "execute_result"
    }
   ],
   "source": [
    "mon_data=data[27:33]\n",
    "mon_data"
   ]
  },
  {
   "cell_type": "code",
   "execution_count": 193,
   "id": "bfba45fc",
   "metadata": {},
   "outputs": [
    {
     "data": {
      "text/html": [
       "<div>\n",
       "<style scoped>\n",
       "    .dataframe tbody tr th:only-of-type {\n",
       "        vertical-align: middle;\n",
       "    }\n",
       "\n",
       "    .dataframe tbody tr th {\n",
       "        vertical-align: top;\n",
       "    }\n",
       "\n",
       "    .dataframe thead th {\n",
       "        text-align: right;\n",
       "    }\n",
       "</style>\n",
       "<table border=\"1\" class=\"dataframe\">\n",
       "  <thead>\n",
       "    <tr style=\"text-align: right;\">\n",
       "      <th></th>\n",
       "      <th>(단위: %)</th>\n",
       "      <th>Unnamed: 1</th>\n",
       "      <th>Unnamed: 2</th>\n",
       "      <th>Unnamed: 3</th>\n",
       "      <th>Unnamed: 4</th>\n",
       "      <th>Unnamed: 5</th>\n",
       "      <th>Unnamed: 6</th>\n",
       "      <th>Unnamed: 7</th>\n",
       "      <th>Unnamed: 8</th>\n",
       "      <th>Unnamed: 9</th>\n",
       "    </tr>\n",
       "  </thead>\n",
       "  <tbody>\n",
       "    <tr>\n",
       "      <th>27</th>\n",
       "      <td>월 가구소득</td>\n",
       "      <td>N</td>\n",
       "      <td>전체표준오차</td>\n",
       "      <td>전체상대표준오차</td>\n",
       "      <td>남자</td>\n",
       "      <td>표준오차</td>\n",
       "      <td>상대표준오차</td>\n",
       "      <td>여자</td>\n",
       "      <td>표준오차</td>\n",
       "      <td>상대표준오차</td>\n",
       "    </tr>\n",
       "    <tr>\n",
       "      <th>28</th>\n",
       "      <td>100만원 미만</td>\n",
       "      <td>29</td>\n",
       "      <td>18.6(6.5)</td>\n",
       "      <td>34.8</td>\n",
       "      <td>11</td>\n",
       "      <td>0</td>\n",
       "      <td>0</td>\n",
       "      <td>18</td>\n",
       "      <td>0</td>\n",
       "      <td>0</td>\n",
       "    </tr>\n",
       "    <tr>\n",
       "      <th>29</th>\n",
       "      <td>100-200만원 미만</td>\n",
       "      <td>34</td>\n",
       "      <td>18.4(6.2)</td>\n",
       "      <td>33.4</td>\n",
       "      <td>18</td>\n",
       "      <td>0</td>\n",
       "      <td>0</td>\n",
       "      <td>16</td>\n",
       "      <td>0</td>\n",
       "      <td>0</td>\n",
       "    </tr>\n",
       "    <tr>\n",
       "      <th>30</th>\n",
       "      <td>200-300만원 미만</td>\n",
       "      <td>42</td>\n",
       "      <td>29.8(8.1)</td>\n",
       "      <td>27.0</td>\n",
       "      <td>21</td>\n",
       "      <td>30.8(9.8)</td>\n",
       "      <td>31.9</td>\n",
       "      <td>21</td>\n",
       "      <td>28.9(9.4)</td>\n",
       "      <td>32.7</td>\n",
       "    </tr>\n",
       "    <tr>\n",
       "      <th>31</th>\n",
       "      <td>300-400만원 미만</td>\n",
       "      <td>18</td>\n",
       "      <td>0</td>\n",
       "      <td>0</td>\n",
       "      <td>12</td>\n",
       "      <td>0</td>\n",
       "      <td>0</td>\n",
       "      <td>6</td>\n",
       "      <td>0</td>\n",
       "      <td>0</td>\n",
       "    </tr>\n",
       "  </tbody>\n",
       "</table>\n",
       "</div>"
      ],
      "text/plain": [
       "         (단위: %) Unnamed: 1 Unnamed: 2 Unnamed: 3 Unnamed: 4 Unnamed: 5  \\\n",
       "27        월 가구소득          N     전체표준오차   전체상대표준오차         남자       표준오차   \n",
       "28     100만원 미만          29  18.6(6.5)       34.8         11          0   \n",
       "29  100-200만원 미만         34  18.4(6.2)       33.4         18          0   \n",
       "30  200-300만원 미만         42  29.8(8.1)       27.0         21  30.8(9.8)   \n",
       "31  300-400만원 미만         18          0          0         12          0   \n",
       "\n",
       "   Unnamed: 6 Unnamed: 7 Unnamed: 8 Unnamed: 9  \n",
       "27     상대표준오차         여자       표준오차     상대표준오차  \n",
       "28          0         18          0          0  \n",
       "29          0         16          0          0  \n",
       "30       31.9         21  28.9(9.4)       32.7  \n",
       "31          0          6          0          0  "
      ]
     },
     "execution_count": 193,
     "metadata": {},
     "output_type": "execute_result"
    }
   ],
   "source": [
    "mon_data=pre(mon_data)\n",
    "mon_data=pre2(mon_data)\n",
    "mon_data.head()"
   ]
  },
  {
   "cell_type": "code",
   "execution_count": 194,
   "id": "914261a2",
   "metadata": {},
   "outputs": [
    {
     "data": {
      "text/html": [
       "<div>\n",
       "<style scoped>\n",
       "    .dataframe tbody tr th:only-of-type {\n",
       "        vertical-align: middle;\n",
       "    }\n",
       "\n",
       "    .dataframe tbody tr th {\n",
       "        vertical-align: top;\n",
       "    }\n",
       "\n",
       "    .dataframe thead th {\n",
       "        text-align: right;\n",
       "    }\n",
       "</style>\n",
       "<table border=\"1\" class=\"dataframe\">\n",
       "  <thead>\n",
       "    <tr style=\"text-align: right;\">\n",
       "      <th></th>\n",
       "      <th>(단위: %)</th>\n",
       "      <th>Unnamed: 1</th>\n",
       "      <th>Unnamed: 2</th>\n",
       "      <th>Unnamed: 3</th>\n",
       "      <th>Unnamed: 4</th>\n",
       "      <th>Unnamed: 5</th>\n",
       "      <th>Unnamed: 6</th>\n",
       "      <th>Unnamed: 7</th>\n",
       "      <th>Unnamed: 8</th>\n",
       "      <th>Unnamed: 9</th>\n",
       "    </tr>\n",
       "  </thead>\n",
       "  <tbody>\n",
       "    <tr>\n",
       "      <th>33</th>\n",
       "      <td>코로나19로 인한 가구소득 변화</td>\n",
       "      <td>NaN</td>\n",
       "      <td>NaN</td>\n",
       "      <td>NaN</td>\n",
       "      <td>NaN</td>\n",
       "      <td>NaN</td>\n",
       "      <td>NaN</td>\n",
       "      <td>NaN</td>\n",
       "      <td>NaN</td>\n",
       "      <td>NaN</td>\n",
       "    </tr>\n",
       "    <tr>\n",
       "      <th>34</th>\n",
       "      <td>줄어들었다</td>\n",
       "      <td>67</td>\n",
       "      <td>28.3(5.6)</td>\n",
       "      <td>19.7</td>\n",
       "      <td>42</td>\n",
       "      <td>24.2(7.5)</td>\n",
       "      <td>31.0</td>\n",
       "      <td>25</td>\n",
       "      <td>35.7(7.8)</td>\n",
       "      <td>21.7</td>\n",
       "    </tr>\n",
       "    <tr>\n",
       "      <th>35</th>\n",
       "      <td>변함없다</td>\n",
       "      <td>115</td>\n",
       "      <td>32.5(4.8)</td>\n",
       "      <td>14.9</td>\n",
       "      <td>56</td>\n",
       "      <td>40.2(7.1)</td>\n",
       "      <td>17.8</td>\n",
       "      <td>59</td>\n",
       "      <td>24.8(5.3)</td>\n",
       "      <td>21.5</td>\n",
       "    </tr>\n",
       "    <tr>\n",
       "      <th>36</th>\n",
       "      <td>늘어났다</td>\n",
       "      <td>6</td>\n",
       "      <td>-(-)</td>\n",
       "      <td>-</td>\n",
       "      <td>2</td>\n",
       "      <td>-(-)</td>\n",
       "      <td>-</td>\n",
       "      <td>4</td>\n",
       "      <td>-(-)</td>\n",
       "      <td>-</td>\n",
       "    </tr>\n",
       "  </tbody>\n",
       "</table>\n",
       "</div>"
      ],
      "text/plain": [
       "              (단위: %) Unnamed: 1 Unnamed: 2 Unnamed: 3 Unnamed: 4 Unnamed: 5  \\\n",
       "33  코로나19로 인한 가구소득 변화        NaN        NaN        NaN        NaN        NaN   \n",
       "34              줄어들었다         67  28.3(5.6)       19.7         42  24.2(7.5)   \n",
       "35               변함없다        115  32.5(4.8)       14.9         56  40.2(7.1)   \n",
       "36               늘어났다          6       -(-)          -          2       -(-)   \n",
       "\n",
       "   Unnamed: 6 Unnamed: 7 Unnamed: 8 Unnamed: 9  \n",
       "33        NaN        NaN        NaN        NaN  \n",
       "34       31.0         25  35.7(7.8)       21.7  \n",
       "35       17.8         59  24.8(5.3)       21.5  \n",
       "36          -          4       -(-)          -  "
      ]
     },
     "execution_count": 194,
     "metadata": {},
     "output_type": "execute_result"
    }
   ],
   "source": [
    "cor_data=data[33:37]\n",
    "cor_data"
   ]
  },
  {
   "cell_type": "code",
   "execution_count": 195,
   "id": "1d5cf654",
   "metadata": {},
   "outputs": [
    {
     "data": {
      "text/html": [
       "<div>\n",
       "<style scoped>\n",
       "    .dataframe tbody tr th:only-of-type {\n",
       "        vertical-align: middle;\n",
       "    }\n",
       "\n",
       "    .dataframe tbody tr th {\n",
       "        vertical-align: top;\n",
       "    }\n",
       "\n",
       "    .dataframe thead th {\n",
       "        text-align: right;\n",
       "    }\n",
       "</style>\n",
       "<table border=\"1\" class=\"dataframe\">\n",
       "  <thead>\n",
       "    <tr style=\"text-align: right;\">\n",
       "      <th></th>\n",
       "      <th>(단위: %)</th>\n",
       "      <th>Unnamed: 1</th>\n",
       "      <th>Unnamed: 2</th>\n",
       "      <th>Unnamed: 3</th>\n",
       "      <th>Unnamed: 4</th>\n",
       "      <th>Unnamed: 5</th>\n",
       "      <th>Unnamed: 6</th>\n",
       "      <th>Unnamed: 7</th>\n",
       "      <th>Unnamed: 8</th>\n",
       "      <th>Unnamed: 9</th>\n",
       "    </tr>\n",
       "  </thead>\n",
       "  <tbody>\n",
       "    <tr>\n",
       "      <th>33</th>\n",
       "      <td>코로나19로 인한 가구소득 변화</td>\n",
       "      <td>N</td>\n",
       "      <td>전체표준오차</td>\n",
       "      <td>전체상대표준오차</td>\n",
       "      <td>남자</td>\n",
       "      <td>표준오차</td>\n",
       "      <td>상대표준오차</td>\n",
       "      <td>여자</td>\n",
       "      <td>표준오차</td>\n",
       "      <td>상대표준오차</td>\n",
       "    </tr>\n",
       "    <tr>\n",
       "      <th>34</th>\n",
       "      <td>줄어들었다</td>\n",
       "      <td>67</td>\n",
       "      <td>28.3(5.6)</td>\n",
       "      <td>19.7</td>\n",
       "      <td>42</td>\n",
       "      <td>24.2(7.5)</td>\n",
       "      <td>31.0</td>\n",
       "      <td>25</td>\n",
       "      <td>35.7(7.8)</td>\n",
       "      <td>21.7</td>\n",
       "    </tr>\n",
       "    <tr>\n",
       "      <th>35</th>\n",
       "      <td>변함없다</td>\n",
       "      <td>115</td>\n",
       "      <td>32.5(4.8)</td>\n",
       "      <td>14.9</td>\n",
       "      <td>56</td>\n",
       "      <td>40.2(7.1)</td>\n",
       "      <td>17.8</td>\n",
       "      <td>59</td>\n",
       "      <td>24.8(5.3)</td>\n",
       "      <td>21.5</td>\n",
       "    </tr>\n",
       "    <tr>\n",
       "      <th>36</th>\n",
       "      <td>늘어났다</td>\n",
       "      <td>6</td>\n",
       "      <td>0</td>\n",
       "      <td>0</td>\n",
       "      <td>2</td>\n",
       "      <td>0</td>\n",
       "      <td>0</td>\n",
       "      <td>4</td>\n",
       "      <td>0</td>\n",
       "      <td>0</td>\n",
       "    </tr>\n",
       "  </tbody>\n",
       "</table>\n",
       "</div>"
      ],
      "text/plain": [
       "              (단위: %) Unnamed: 1 Unnamed: 2 Unnamed: 3 Unnamed: 4 Unnamed: 5  \\\n",
       "33  코로나19로 인한 가구소득 변화          N     전체표준오차   전체상대표준오차         남자       표준오차   \n",
       "34              줄어들었다         67  28.3(5.6)       19.7         42  24.2(7.5)   \n",
       "35               변함없다        115  32.5(4.8)       14.9         56  40.2(7.1)   \n",
       "36               늘어났다          6          0          0          2          0   \n",
       "\n",
       "   Unnamed: 6 Unnamed: 7 Unnamed: 8 Unnamed: 9  \n",
       "33     상대표준오차         여자       표준오차     상대표준오차  \n",
       "34       31.0         25  35.7(7.8)       21.7  \n",
       "35       17.8         59  24.8(5.3)       21.5  \n",
       "36          0          4          0          0  "
      ]
     },
     "execution_count": 195,
     "metadata": {},
     "output_type": "execute_result"
    }
   ],
   "source": [
    "cor_data=pre(cor_data)\n",
    "cor_data=pre2(cor_data)\n",
    "cor_data.head()"
   ]
  },
  {
   "cell_type": "code",
   "execution_count": 196,
   "id": "ef7043aa",
   "metadata": {},
   "outputs": [
    {
     "data": {
      "text/html": [
       "<div>\n",
       "<style scoped>\n",
       "    .dataframe tbody tr th:only-of-type {\n",
       "        vertical-align: middle;\n",
       "    }\n",
       "\n",
       "    .dataframe tbody tr th {\n",
       "        vertical-align: top;\n",
       "    }\n",
       "\n",
       "    .dataframe thead th {\n",
       "        text-align: right;\n",
       "    }\n",
       "</style>\n",
       "<table border=\"1\" class=\"dataframe\">\n",
       "  <thead>\n",
       "    <tr style=\"text-align: right;\">\n",
       "      <th></th>\n",
       "      <th>(단위: %)</th>\n",
       "      <th>Unnamed: 1</th>\n",
       "      <th>Unnamed: 2</th>\n",
       "      <th>Unnamed: 3</th>\n",
       "      <th>Unnamed: 4</th>\n",
       "      <th>Unnamed: 5</th>\n",
       "      <th>Unnamed: 6</th>\n",
       "      <th>Unnamed: 7</th>\n",
       "      <th>Unnamed: 8</th>\n",
       "      <th>Unnamed: 9</th>\n",
       "    </tr>\n",
       "  </thead>\n",
       "  <tbody>\n",
       "    <tr>\n",
       "      <th>37</th>\n",
       "      <td>코로나19로 인한 가구 필수 소비지출변화</td>\n",
       "      <td>NaN</td>\n",
       "      <td>NaN</td>\n",
       "      <td>NaN</td>\n",
       "      <td>NaN</td>\n",
       "      <td>NaN</td>\n",
       "      <td>NaN</td>\n",
       "      <td>NaN</td>\n",
       "      <td>NaN</td>\n",
       "      <td>NaN</td>\n",
       "    </tr>\n",
       "    <tr>\n",
       "      <th>38</th>\n",
       "      <td>줄어들었다</td>\n",
       "      <td>17</td>\n",
       "      <td>-(-)</td>\n",
       "      <td>-</td>\n",
       "      <td>11</td>\n",
       "      <td>-(-)</td>\n",
       "      <td>-</td>\n",
       "      <td>6</td>\n",
       "      <td>-(-)</td>\n",
       "      <td>-</td>\n",
       "    </tr>\n",
       "    <tr>\n",
       "      <th>39</th>\n",
       "      <td>변함없다</td>\n",
       "      <td>128</td>\n",
       "      <td>28.8(4.2)</td>\n",
       "      <td>14.7</td>\n",
       "      <td>68</td>\n",
       "      <td>33.4(6.3)</td>\n",
       "      <td>19.0</td>\n",
       "      <td>60</td>\n",
       "      <td>23.3(4.9)</td>\n",
       "      <td>21.1</td>\n",
       "    </tr>\n",
       "    <tr>\n",
       "      <th>40</th>\n",
       "      <td>늘어났다</td>\n",
       "      <td>43</td>\n",
       "      <td>26.1(7.8)</td>\n",
       "      <td>30.0</td>\n",
       "      <td>21</td>\n",
       "      <td>21.6(8.5)</td>\n",
       "      <td>39.2</td>\n",
       "      <td>22</td>\n",
       "      <td>30.6(9.5)</td>\n",
       "      <td>31.1</td>\n",
       "    </tr>\n",
       "  </tbody>\n",
       "</table>\n",
       "</div>"
      ],
      "text/plain": [
       "                   (단위: %) Unnamed: 1 Unnamed: 2 Unnamed: 3 Unnamed: 4  \\\n",
       "37  코로나19로 인한 가구 필수 소비지출변화        NaN        NaN        NaN        NaN   \n",
       "38                   줄어들었다         17       -(-)          -         11   \n",
       "39                    변함없다        128  28.8(4.2)       14.7         68   \n",
       "40                    늘어났다         43  26.1(7.8)       30.0         21   \n",
       "\n",
       "   Unnamed: 5 Unnamed: 6 Unnamed: 7 Unnamed: 8 Unnamed: 9  \n",
       "37        NaN        NaN        NaN        NaN        NaN  \n",
       "38       -(-)          -          6       -(-)          -  \n",
       "39  33.4(6.3)       19.0         60  23.3(4.9)       21.1  \n",
       "40  21.6(8.5)       39.2         22  30.6(9.5)       31.1  "
      ]
     },
     "execution_count": 196,
     "metadata": {},
     "output_type": "execute_result"
    }
   ],
   "source": [
    "out_data=data[37:41]\n",
    "out_data"
   ]
  },
  {
   "cell_type": "code",
   "execution_count": 197,
   "id": "ea533c6a",
   "metadata": {},
   "outputs": [
    {
     "data": {
      "text/html": [
       "<div>\n",
       "<style scoped>\n",
       "    .dataframe tbody tr th:only-of-type {\n",
       "        vertical-align: middle;\n",
       "    }\n",
       "\n",
       "    .dataframe tbody tr th {\n",
       "        vertical-align: top;\n",
       "    }\n",
       "\n",
       "    .dataframe thead th {\n",
       "        text-align: right;\n",
       "    }\n",
       "</style>\n",
       "<table border=\"1\" class=\"dataframe\">\n",
       "  <thead>\n",
       "    <tr style=\"text-align: right;\">\n",
       "      <th></th>\n",
       "      <th>(단위: %)</th>\n",
       "      <th>Unnamed: 1</th>\n",
       "      <th>Unnamed: 2</th>\n",
       "      <th>Unnamed: 3</th>\n",
       "      <th>Unnamed: 4</th>\n",
       "      <th>Unnamed: 5</th>\n",
       "      <th>Unnamed: 6</th>\n",
       "      <th>Unnamed: 7</th>\n",
       "      <th>Unnamed: 8</th>\n",
       "      <th>Unnamed: 9</th>\n",
       "    </tr>\n",
       "  </thead>\n",
       "  <tbody>\n",
       "    <tr>\n",
       "      <th>37</th>\n",
       "      <td>코로나19로 인한 가구 필수 소비지출변화</td>\n",
       "      <td>N</td>\n",
       "      <td>전체표준오차</td>\n",
       "      <td>전체상대표준오차</td>\n",
       "      <td>남자</td>\n",
       "      <td>표준오차</td>\n",
       "      <td>상대표준오차</td>\n",
       "      <td>여자</td>\n",
       "      <td>표준오차</td>\n",
       "      <td>상대표준오차</td>\n",
       "    </tr>\n",
       "    <tr>\n",
       "      <th>38</th>\n",
       "      <td>줄어들었다</td>\n",
       "      <td>17</td>\n",
       "      <td>0</td>\n",
       "      <td>0</td>\n",
       "      <td>11</td>\n",
       "      <td>0</td>\n",
       "      <td>0</td>\n",
       "      <td>6</td>\n",
       "      <td>0</td>\n",
       "      <td>0</td>\n",
       "    </tr>\n",
       "    <tr>\n",
       "      <th>39</th>\n",
       "      <td>변함없다</td>\n",
       "      <td>128</td>\n",
       "      <td>28.8(4.2)</td>\n",
       "      <td>14.7</td>\n",
       "      <td>68</td>\n",
       "      <td>33.4(6.3)</td>\n",
       "      <td>19.0</td>\n",
       "      <td>60</td>\n",
       "      <td>23.3(4.9)</td>\n",
       "      <td>21.1</td>\n",
       "    </tr>\n",
       "    <tr>\n",
       "      <th>40</th>\n",
       "      <td>늘어났다</td>\n",
       "      <td>43</td>\n",
       "      <td>26.1(7.8)</td>\n",
       "      <td>30.0</td>\n",
       "      <td>21</td>\n",
       "      <td>21.6(8.5)</td>\n",
       "      <td>39.2</td>\n",
       "      <td>22</td>\n",
       "      <td>30.6(9.5)</td>\n",
       "      <td>31.1</td>\n",
       "    </tr>\n",
       "  </tbody>\n",
       "</table>\n",
       "</div>"
      ],
      "text/plain": [
       "                   (단위: %) Unnamed: 1 Unnamed: 2 Unnamed: 3 Unnamed: 4  \\\n",
       "37  코로나19로 인한 가구 필수 소비지출변화          N     전체표준오차   전체상대표준오차         남자   \n",
       "38                   줄어들었다         17          0          0         11   \n",
       "39                    변함없다        128  28.8(4.2)       14.7         68   \n",
       "40                    늘어났다         43  26.1(7.8)       30.0         21   \n",
       "\n",
       "   Unnamed: 5 Unnamed: 6 Unnamed: 7 Unnamed: 8 Unnamed: 9  \n",
       "37       표준오차     상대표준오차         여자       표준오차     상대표준오차  \n",
       "38          0          0          6          0          0  \n",
       "39  33.4(6.3)       19.0         60  23.3(4.9)       21.1  \n",
       "40  21.6(8.5)       39.2         22  30.6(9.5)       31.1  "
      ]
     },
     "execution_count": 197,
     "metadata": {},
     "output_type": "execute_result"
    }
   ],
   "source": [
    "out_data=pre(out_data)\n",
    "out_data=pre2(out_data)\n",
    "out_data.head()"
   ]
  },
  {
   "cell_type": "code",
   "execution_count": 198,
   "id": "a078721a",
   "metadata": {},
   "outputs": [
    {
     "data": {
      "text/html": [
       "<div>\n",
       "<style scoped>\n",
       "    .dataframe tbody tr th:only-of-type {\n",
       "        vertical-align: middle;\n",
       "    }\n",
       "\n",
       "    .dataframe tbody tr th {\n",
       "        vertical-align: top;\n",
       "    }\n",
       "\n",
       "    .dataframe thead th {\n",
       "        text-align: right;\n",
       "    }\n",
       "</style>\n",
       "<table border=\"1\" class=\"dataframe\">\n",
       "  <thead>\n",
       "    <tr style=\"text-align: right;\">\n",
       "      <th></th>\n",
       "      <th>(단위: %)</th>\n",
       "      <th>Unnamed: 1</th>\n",
       "      <th>Unnamed: 2</th>\n",
       "      <th>Unnamed: 3</th>\n",
       "      <th>Unnamed: 4</th>\n",
       "      <th>Unnamed: 5</th>\n",
       "      <th>Unnamed: 6</th>\n",
       "      <th>Unnamed: 7</th>\n",
       "      <th>Unnamed: 8</th>\n",
       "      <th>Unnamed: 9</th>\n",
       "    </tr>\n",
       "  </thead>\n",
       "  <tbody>\n",
       "    <tr>\n",
       "      <th>41</th>\n",
       "      <td>거주유형</td>\n",
       "      <td>NaN</td>\n",
       "      <td>NaN</td>\n",
       "      <td>NaN</td>\n",
       "      <td>NaN</td>\n",
       "      <td>NaN</td>\n",
       "      <td>NaN</td>\n",
       "      <td>NaN</td>\n",
       "      <td>NaN</td>\n",
       "      <td>NaN</td>\n",
       "    </tr>\n",
       "    <tr>\n",
       "      <th>42</th>\n",
       "      <td>동</td>\n",
       "      <td>100</td>\n",
       "      <td>38.7(5.4)</td>\n",
       "      <td>14.0</td>\n",
       "      <td>48</td>\n",
       "      <td>42.3(8.6)</td>\n",
       "      <td>20.3</td>\n",
       "      <td>52</td>\n",
       "      <td>35.2(6.1)</td>\n",
       "      <td>17.4</td>\n",
       "    </tr>\n",
       "    <tr>\n",
       "      <th>43</th>\n",
       "      <td>읍〮면</td>\n",
       "      <td>88</td>\n",
       "      <td>19.3(5.0)</td>\n",
       "      <td>25.7</td>\n",
       "      <td>52</td>\n",
       "      <td>22.1(6.1)</td>\n",
       "      <td>27.6</td>\n",
       "      <td>36</td>\n",
       "      <td>14.8(6.9)</td>\n",
       "      <td>46.7</td>\n",
       "    </tr>\n",
       "  </tbody>\n",
       "</table>\n",
       "</div>"
      ],
      "text/plain": [
       "   (단위: %) Unnamed: 1 Unnamed: 2 Unnamed: 3 Unnamed: 4 Unnamed: 5 Unnamed: 6  \\\n",
       "41    거주유형        NaN        NaN        NaN        NaN        NaN        NaN   \n",
       "42       동        100  38.7(5.4)       14.0         48  42.3(8.6)       20.3   \n",
       "43     읍〮면         88  19.3(5.0)       25.7         52  22.1(6.1)       27.6   \n",
       "\n",
       "   Unnamed: 7 Unnamed: 8 Unnamed: 9  \n",
       "41        NaN        NaN        NaN  \n",
       "42         52  35.2(6.1)       17.4  \n",
       "43         36  14.8(6.9)       46.7  "
      ]
     },
     "execution_count": 198,
     "metadata": {},
     "output_type": "execute_result"
    }
   ],
   "source": [
    "liv_data=data[41:44]\n",
    "liv_data"
   ]
  },
  {
   "cell_type": "code",
   "execution_count": 199,
   "id": "b6e8f8e8",
   "metadata": {},
   "outputs": [
    {
     "data": {
      "text/html": [
       "<div>\n",
       "<style scoped>\n",
       "    .dataframe tbody tr th:only-of-type {\n",
       "        vertical-align: middle;\n",
       "    }\n",
       "\n",
       "    .dataframe tbody tr th {\n",
       "        vertical-align: top;\n",
       "    }\n",
       "\n",
       "    .dataframe thead th {\n",
       "        text-align: right;\n",
       "    }\n",
       "</style>\n",
       "<table border=\"1\" class=\"dataframe\">\n",
       "  <thead>\n",
       "    <tr style=\"text-align: right;\">\n",
       "      <th></th>\n",
       "      <th>(단위: %)</th>\n",
       "      <th>Unnamed: 1</th>\n",
       "      <th>Unnamed: 2</th>\n",
       "      <th>Unnamed: 3</th>\n",
       "      <th>Unnamed: 4</th>\n",
       "      <th>Unnamed: 5</th>\n",
       "      <th>Unnamed: 6</th>\n",
       "      <th>Unnamed: 7</th>\n",
       "      <th>Unnamed: 8</th>\n",
       "      <th>Unnamed: 9</th>\n",
       "    </tr>\n",
       "  </thead>\n",
       "  <tbody>\n",
       "    <tr>\n",
       "      <th>41</th>\n",
       "      <td>거주유형</td>\n",
       "      <td>N</td>\n",
       "      <td>전체표준오차</td>\n",
       "      <td>전체상대표준오차</td>\n",
       "      <td>남자</td>\n",
       "      <td>표준오차</td>\n",
       "      <td>상대표준오차</td>\n",
       "      <td>여자</td>\n",
       "      <td>표준오차</td>\n",
       "      <td>상대표준오차</td>\n",
       "    </tr>\n",
       "    <tr>\n",
       "      <th>42</th>\n",
       "      <td>동</td>\n",
       "      <td>100</td>\n",
       "      <td>38.7(5.4)</td>\n",
       "      <td>14.0</td>\n",
       "      <td>48</td>\n",
       "      <td>42.3(8.6)</td>\n",
       "      <td>20.3</td>\n",
       "      <td>52</td>\n",
       "      <td>35.2(6.1)</td>\n",
       "      <td>17.4</td>\n",
       "    </tr>\n",
       "    <tr>\n",
       "      <th>43</th>\n",
       "      <td>읍〮면</td>\n",
       "      <td>88</td>\n",
       "      <td>19.3(5.0)</td>\n",
       "      <td>25.7</td>\n",
       "      <td>52</td>\n",
       "      <td>22.1(6.1)</td>\n",
       "      <td>27.6</td>\n",
       "      <td>36</td>\n",
       "      <td>14.8(6.9)</td>\n",
       "      <td>46.7</td>\n",
       "    </tr>\n",
       "  </tbody>\n",
       "</table>\n",
       "</div>"
      ],
      "text/plain": [
       "   (단위: %) Unnamed: 1 Unnamed: 2 Unnamed: 3 Unnamed: 4 Unnamed: 5 Unnamed: 6  \\\n",
       "41    거주유형          N     전체표준오차   전체상대표준오차         남자       표준오차     상대표준오차   \n",
       "42       동        100  38.7(5.4)       14.0         48  42.3(8.6)       20.3   \n",
       "43     읍〮면         88  19.3(5.0)       25.7         52  22.1(6.1)       27.6   \n",
       "\n",
       "   Unnamed: 7 Unnamed: 8 Unnamed: 9  \n",
       "41         여자       표준오차     상대표준오차  \n",
       "42         52  35.2(6.1)       17.4  \n",
       "43         36  14.8(6.9)       46.7  "
      ]
     },
     "execution_count": 199,
     "metadata": {},
     "output_type": "execute_result"
    }
   ],
   "source": [
    "liv_data=pre(liv_data)\n",
    "liv_data=pre2(liv_data)\n",
    "liv_data.head()"
   ]
  },
  {
   "cell_type": "code",
   "execution_count": 143,
   "id": "840ea3af",
   "metadata": {},
   "outputs": [],
   "source": [
    "def index(df):\n",
    "    headers = df.iloc[0]\n",
    "    new_df  = pd.DataFrame(df.values[1:], columns=headers)\n",
    "    return new_df"
   ]
  },
  {
   "cell_type": "code",
   "execution_count": 144,
   "id": "dec51af8",
   "metadata": {},
   "outputs": [
    {
     "data": {
      "text/plain": [
       "Index(['연령', 'N', '전체표준오차', '전체상대표준오차', '남자', '표준오차', '상대표준오차', '여자', '표준오차',\n",
       "       '상대표준오차'],\n",
       "      dtype='object', name=4)"
      ]
     },
     "execution_count": 144,
     "metadata": {},
     "output_type": "execute_result"
    }
   ],
   "source": [
    "age_data=index(age_data)\n",
    "age_data.columns"
   ]
  },
  {
   "cell_type": "markdown",
   "id": "35f3cc18",
   "metadata": {},
   "source": [
    "전체 연령별 분포"
   ]
  },
  {
   "cell_type": "code",
   "execution_count": 146,
   "id": "bb70b6bf",
   "metadata": {},
   "outputs": [
    {
     "data": {
      "image/png": "[encoded data removed]",
      "text/plain": [
       "<Figure size 432x288 with 1 Axes>"
      ]
     },
     "metadata": {},
     "output_type": "display_data"
    }
   ],
   "source": [
    "import matplotlib.pyplot as plt\n",
    "labels= age_data['연령']\n",
    "frequency=age_data['N'].values\n",
    "plt.rc('font', family='Malgun Gothic') #한글로\n",
    "plt.pie(frequency, labels=labels, autopct='%.1f%%')\n",
    "plt.show()\n"
   ]
  },
  {
   "cell_type": "markdown",
   "id": "771dbe67",
   "metadata": {},
   "source": [
    " 남자 연령별 분포"
   ]
  },
  {
   "cell_type": "code",
   "execution_count": 147,
   "id": "c4af3b0e",
   "metadata": {},
   "outputs": [
    {
     "data": {
      "image/png": "[encoded data removed]",
      "text/plain": [
       "<Figure size 432x288 with 1 Axes>"
      ]
     },
     "metadata": {},
     "output_type": "display_data"
    }
   ],
   "source": [
    "import matplotlib.pyplot as plt\n",
    "frequency= age_data['남자']\n",
    "labels= age_data['연령']\n",
    "plt.rc('font', family='Malgun Gothic') #한글로\n",
    "plt.pie(frequency, labels=labels, autopct='%.1f%%')\n",
    "plt.show()"
   ]
  },
  {
   "cell_type": "markdown",
   "id": "8c32d468",
   "metadata": {},
   "source": [
    "여자 연령별 분포"
   ]
  },
  {
   "cell_type": "code",
   "execution_count": 148,
   "id": "7a005042",
   "metadata": {},
   "outputs": [
    {
     "data": {
      "image/png": "[encoded data removed]",
      "text/plain": [
       "<Figure size 432x288 with 1 Axes>"
      ]
     },
     "metadata": {},
     "output_type": "display_data"
    }
   ],
   "source": [
    "import matplotlib.pyplot as plt\n",
    "frequency= age_data['여자']\n",
    "labels= age_data['연령']\n",
    "plt.rc('font', family='Malgun Gothic') #한글로\n",
    "plt.pie(frequency, labels=labels, autopct='%.1f%%')\n",
    "plt.show()"
   ]
  },
  {
   "cell_type": "markdown",
   "id": "a2d1d791",
   "metadata": {},
   "source": [
    "3가지 집단 모두 분포가 비슷하다!"
   ]
  },
  {
   "cell_type": "code",
   "execution_count": 149,
   "id": "be89577c",
   "metadata": {},
   "outputs": [
    {
     "data": {
      "image/png": "[encoded data removed]",
      "text/plain": [
       "<Figure size 432x288 with 1 Axes>"
      ]
     },
     "metadata": {},
     "output_type": "display_data"
    }
   ],
   "source": [
    "frequency=[sum(age_data['남자'].astype(float).values),sum(age_data['여자'].astype(float).values)]\n",
    "labels=['남자','여자']\n",
    "plt.rc('font', family='Malgun Gothic') #한글로\n",
    "plt.pie(frequency, labels=labels, autopct='%.1f%%')\n",
    "plt.show()"
   ]
  },
  {
   "cell_type": "code",
   "execution_count": 156,
   "id": "162c24a6",
   "metadata": {},
   "outputs": [
    {
     "data": {
      "image/png": "[encoded data removed]",
      "text/plain": [
       "<Figure size 432x288 with 1 Axes>"
      ]
     },
     "metadata": {},
     "output_type": "display_data"
    }
   ],
   "source": [
    "frequency=list(map(lambda x:x[:-6] if x!=0 else 0,age_data['전체표준오차'].values))\n",
    "labels=age_data['연령']\n",
    "plt.rc('font', family='Malgun Gothic') #한글로\n",
    "plt.pie(frequency, labels=labels, autopct='%.1f%%')\n",
    "plt.show()\n",
    "#40-49가 가장 평균근처에 밀집되어있고 70이상이 평균에서 가장 멀리 떨어져있다."
   ]
  },
  {
   "cell_type": "code",
   "execution_count": 176,
   "id": "1e6fa9cf",
   "metadata": {},
   "outputs": [
    {
     "data": {
      "image/png": "[encoded data removed]",
      "text/plain": [
       "<Figure size 432x288 with 1 Axes>"
      ]
     },
     "metadata": {},
     "output_type": "display_data"
    }
   ],
   "source": [
    "frequency=age_data['전체상대표준오차'].values\n",
    "labels=age_data['연령']\n",
    "plt.rc('font', family='Malgun Gothic') #한글로\n",
    "plt.pie(frequency, labels=labels, autopct='%.1f%%')\n",
    "plt.show()\n",
    "#70이상이 가장 신뢰성이 높고 50-59가 가장 신뢰성이 적다."
   ]
  },
  {
   "cell_type": "code",
   "execution_count": 201,
   "id": "65a829a4",
   "metadata": {},
   "outputs": [
    {
     "data": {
      "text/plain": [
       "Index(['교육수준3)', 'N', '전체표준오차', '전체상대표준오차', '남자', '표준오차', '상대표준오차', '여자',\n",
       "       '표준오차', '상대표준오차'],\n",
       "      dtype='object', name=14)"
      ]
     },
     "execution_count": 201,
     "metadata": {},
     "output_type": "execute_result"
    }
   ],
   "source": [
    "edu_data=index(edu_data)\n",
    "edu_data.columns"
   ]
  },
  {
   "cell_type": "markdown",
   "id": "60eca43e",
   "metadata": {},
   "source": [
    "전체 교육수준별 분포"
   ]
  },
  {
   "cell_type": "code",
   "execution_count": 181,
   "id": "57a03429",
   "metadata": {},
   "outputs": [
    {
     "data": {
      "image/png": "[encoded data removed]",
      "text/plain": [
       "<Figure size 432x288 with 1 Axes>"
      ]
     },
     "metadata": {},
     "output_type": "display_data"
    }
   ],
   "source": [
    "import matplotlib.pyplot as plt\n",
    "labels= edu_data['교육수준3)']\n",
    "frequency=edu_data['N'].values\n",
    "plt.rc('font', family='Malgun Gothic') #한글로\n",
    "plt.pie(frequency, labels=labels, autopct='%.1f%%')\n",
    "plt.show()\n"
   ]
  },
  {
   "cell_type": "markdown",
   "id": "129fee3c",
   "metadata": {},
   "source": [
    "남자 교육수준별 분포"
   ]
  },
  {
   "cell_type": "code",
   "execution_count": 202,
   "id": "83eda7d8",
   "metadata": {},
   "outputs": [
    {
     "data": {
      "image/png": "[encoded data removed]",
      "text/plain": [
       "<Figure size 432x288 with 1 Axes>"
      ]
     },
     "metadata": {},
     "output_type": "display_data"
    }
   ],
   "source": [
    "import matplotlib.pyplot as plt\n",
    "frequency= edu_data['남자']\n",
    "labels= edu_data['교육수준3)']\n",
    "plt.rc('font', family='Malgun Gothic') #한글로\n",
    "plt.pie(frequency, labels=labels, autopct='%.1f%%')\n",
    "plt.show()"
   ]
  },
  {
   "cell_type": "markdown",
   "id": "3a6761ec",
   "metadata": {},
   "source": [
    "여자 교육수준별 분포"
   ]
  },
  {
   "cell_type": "code",
   "execution_count": 203,
   "id": "d8c52f6d",
   "metadata": {},
   "outputs": [
    {
     "data": {
      "image/png": "[encoded data removed]",
      "text/plain": [
       "<Figure size 432x288 with 1 Axes>"
      ]
     },
     "metadata": {},
     "output_type": "display_data"
    }
   ],
   "source": [
    "import matplotlib.pyplot as plt\n",
    "frequency= edu_data['여자']\n",
    "labels= edu_data['교육수준3)']\n",
    "plt.rc('font', family='Malgun Gothic') #한글로\n",
    "plt.pie(frequency, labels=labels, autopct='%.1f%%')\n",
    "plt.show()\n",
    "#조사 대상에서 노년층이 많아서인지 여자와 남자의 교육수준 차이가 크다!"
   ]
  },
  {
   "cell_type": "code",
   "execution_count": 204,
   "id": "b618a0a3",
   "metadata": {},
   "outputs": [
    {
     "data": {
      "image/png": "[encoded data removed]",
      "text/plain": [
       "<Figure size 432x288 with 1 Axes>"
      ]
     },
     "metadata": {},
     "output_type": "display_data"
    }
   ],
   "source": [
    "frequency=list(map(lambda x:x[:-6] if x!=0 else 0,edu_data['전체표준오차'].values))\n",
    "labels=edu_data['교육수준3)']\n",
    "plt.rc('font', family='Malgun Gothic') #한글로\n",
    "plt.pie(frequency, labels=labels, autopct='%.1f%%')\n",
    "plt.show()\n",
    "#대학교이상이 가장 평균근처에 밀집되어있고 초등학교가 평균에서 가장 멀리 떨어져있다."
   ]
  },
  {
   "cell_type": "code",
   "execution_count": 206,
   "id": "9027c88b",
   "metadata": {},
   "outputs": [
    {
     "data": {
      "image/png": "[encoded data removed]",
      "text/plain": [
       "<Figure size 432x288 with 1 Axes>"
      ]
     },
     "metadata": {},
     "output_type": "display_data"
    }
   ],
   "source": [
    "frequency=edu_data['전체상대표준오차'].values\n",
    "labels=edu_data['교육수준3)']\n",
    "plt.rc('font', family='Malgun Gothic') #한글로\n",
    "plt.pie(frequency, labels=labels, autopct='%.1f%%')\n",
    "plt.show()\n",
    "#70이상이 가장 신뢰성이 높고 50-59가 가장 신뢰성이 적다.\n",
    "#설문조사를 할때 설문문항을 이해하지 못하는등 비표본오차가 가장 클것이라고 예상되는 70세이상의 신뢰성이 가장 높게 나온다는 것이 좀 신뢰성이 있지 않은 결과이다."
   ]
  },
  {
   "cell_type": "code",
   "execution_count": 207,
   "id": "d05f87ca",
   "metadata": {},
   "outputs": [
    {
     "data": {
      "text/plain": [
       "Index(['직업', 'N', '전체표준오차', '전체상대표준오차', '남자', '표준오차', '상대표준오차', '여자', '표준오차',\n",
       "       '상대표준오차'],\n",
       "      dtype='object', name=20)"
      ]
     },
     "execution_count": 207,
     "metadata": {},
     "output_type": "execute_result"
    }
   ],
   "source": [
    "job_data=index(job_data)\n",
    "job_data.columns"
   ]
  },
  {
   "cell_type": "markdown",
   "id": "49334ed9",
   "metadata": {},
   "source": [
    "전체 직업별 분포"
   ]
  },
  {
   "cell_type": "code",
   "execution_count": 208,
   "id": "431f5c4d",
   "metadata": {},
   "outputs": [
    {
     "name": "stderr",
     "output_type": "stream",
     "text": [
      "C:\\Users\\Administrator\\anaconda3\\lib\\site-packages\\matplotlib\\backends\\backend_agg.py:240: RuntimeWarning: Glyph 65381 missing from current font.\n",
      "  font.set_text(s, 0.0, flags=flags)\n",
      "C:\\Users\\Administrator\\anaconda3\\lib\\site-packages\\matplotlib\\backends\\backend_agg.py:203: RuntimeWarning: Glyph 65381 missing from current font.\n",
      "  font.set_text(s, 0, flags=flags)\n"
     ]
    },
    {
     "data": {
      "image/png": "[encoded data removed]",
      "text/plain": [
       "<Figure size 432x288 with 1 Axes>"
      ]
     },
     "metadata": {},
     "output_type": "display_data"
    }
   ],
   "source": [
    "import matplotlib.pyplot as plt\n",
    "labels= job_data['직업']\n",
    "frequency=job_data['N'].values\n",
    "plt.rc('font', family='Malgun Gothic') #한글로\n",
    "plt.pie(frequency, labels=labels, autopct='%.1f%%')\n",
    "plt.show()\n"
   ]
  },
  {
   "cell_type": "markdown",
   "id": "f04127cc",
   "metadata": {},
   "source": [
    "남자 직업별 분포"
   ]
  },
  {
   "cell_type": "code",
   "execution_count": 210,
   "id": "380d488f",
   "metadata": {},
   "outputs": [
    {
     "data": {
      "image/png": "[encoded data removed]",
      "text/plain": [
       "<Figure size 432x288 with 1 Axes>"
      ]
     },
     "metadata": {},
     "output_type": "display_data"
    }
   ],
   "source": [
    "import matplotlib.pyplot as plt\n",
    "frequency= job_data['남자']\n",
    "labels= job_data['직업']\n",
    "plt.rc('font', family='Malgun Gothic') #한글로\n",
    "plt.pie(frequency, labels=labels, autopct='%.1f%%')\n",
    "plt.show()"
   ]
  },
  {
   "cell_type": "markdown",
   "id": "99adb595",
   "metadata": {},
   "source": [
    "여자 직업별 분포"
   ]
  },
  {
   "cell_type": "code",
   "execution_count": 212,
   "id": "855786c2",
   "metadata": {},
   "outputs": [
    {
     "data": {
      "image/png": "[encoded data removed]",
      "text/plain": [
       "<Figure size 432x288 with 1 Axes>"
      ]
     },
     "metadata": {},
     "output_type": "display_data"
    }
   ],
   "source": [
    "import matplotlib.pyplot as plt\n",
    "frequency= job_data['여자']\n",
    "labels= job_data['직업']\n",
    "plt.rc('font', family='Malgun Gothic') #한글로\n",
    "plt.pie(frequency, labels=labels, autopct='%.1f%%')\n",
    "plt.show()\n",
    "#여자의 경우 판매, 서비스직이 조금 더 많다."
   ]
  },
  {
   "cell_type": "code",
   "execution_count": 213,
   "id": "0b5e730a",
   "metadata": {},
   "outputs": [
    {
     "data": {
      "image/png": "[encoded data removed]",
      "text/plain": [
       "<Figure size 432x288 with 1 Axes>"
      ]
     },
     "metadata": {},
     "output_type": "display_data"
    }
   ],
   "source": [
    "frequency=list(map(lambda x:x[:-6] if x!=0 else 0,job_data['전체표준오차'].values))\n",
    "labels=job_data['직업']\n",
    "plt.rc('font', family='Malgun Gothic') #한글로\n",
    "plt.pie(frequency, labels=labels, autopct='%.1f%%')\n",
    "plt.show()\n",
    "#기능단순노무직이 평균을 가장 잘 대표하고 나머지는 비슷한것 같다."
   ]
  },
  {
   "cell_type": "code",
   "execution_count": 214,
   "id": "2a62f146",
   "metadata": {},
   "outputs": [
    {
     "data": {
      "image/png": "[encoded data removed]",
      "text/plain": [
       "<Figure size 432x288 with 1 Axes>"
      ]
     },
     "metadata": {},
     "output_type": "display_data"
    }
   ],
   "source": [
    "frequency=job_data['전체상대표준오차'].values\n",
    "labels=job_data['직업']\n",
    "plt.rc('font', family='Malgun Gothic') #한글로\n",
    "plt.pie(frequency, labels=labels, autopct='%.1f%%')\n",
    "plt.show()\n",
    "#판매&서비스직이 가장 신뢰성이 높고 기능단순노무직이 가장 신뢰성이 적다."
   ]
  },
  {
   "cell_type": "code",
   "execution_count": 215,
   "id": "61f4d878",
   "metadata": {},
   "outputs": [
    {
     "data": {
      "text/plain": [
       "Index(['월 가구소득', 'N', '전체표준오차', '전체상대표준오차', '남자', '표준오차', '상대표준오차', '여자',\n",
       "       '표준오차', '상대표준오차'],\n",
       "      dtype='object', name=27)"
      ]
     },
     "execution_count": 215,
     "metadata": {},
     "output_type": "execute_result"
    }
   ],
   "source": [
    "mon_data=index(mon_data)\n",
    "mon_data.columns"
   ]
  },
  {
   "cell_type": "markdown",
   "id": "2f63178f",
   "metadata": {},
   "source": [
    "월 가구소득별 전체 분포"
   ]
  },
  {
   "cell_type": "code",
   "execution_count": 216,
   "id": "961f513e",
   "metadata": {},
   "outputs": [
    {
     "data": {
      "image/png": "[encoded data removed]",
      "text/plain": [
       "<Figure size 432x288 with 1 Axes>"
      ]
     },
     "metadata": {},
     "output_type": "display_data"
    }
   ],
   "source": [
    "import matplotlib.pyplot as plt\n",
    "labels= mon_data['월 가구소득']\n",
    "frequency=mon_data['N'].values\n",
    "plt.rc('font', family='Malgun Gothic') #한글로\n",
    "plt.pie(frequency, labels=labels, autopct='%.1f%%')\n",
    "plt.show()\n",
    "#400만원이상이 가장 많았다."
   ]
  },
  {
   "cell_type": "markdown",
   "id": "36c78012",
   "metadata": {},
   "source": [
    "월 가구소득별 남자 분포"
   ]
  },
  {
   "cell_type": "code",
   "execution_count": 217,
   "id": "b1560a73",
   "metadata": {},
   "outputs": [
    {
     "data": {
      "image/png": "[encoded data removed]",
      "text/plain": [
       "<Figure size 432x288 with 1 Axes>"
      ]
     },
     "metadata": {},
     "output_type": "display_data"
    }
   ],
   "source": [
    "import matplotlib.pyplot as plt\n",
    "frequency= mon_data['남자']\n",
    "labels= mon_data['월 가구소득']\n",
    "plt.rc('font', family='Malgun Gothic') #한글로\n",
    "plt.pie(frequency, labels=labels, autopct='%.1f%%')\n",
    "plt.show()"
   ]
  },
  {
   "cell_type": "markdown",
   "id": "48cc2f7a",
   "metadata": {},
   "source": [
    "월 가구소득별 여자 분포"
   ]
  },
  {
   "cell_type": "code",
   "execution_count": 218,
   "id": "cfbfaacc",
   "metadata": {},
   "outputs": [
    {
     "data": {
      "image/png": "[encoded data removed]",
      "text/plain": [
       "<Figure size 432x288 with 1 Axes>"
      ]
     },
     "metadata": {},
     "output_type": "display_data"
    }
   ],
   "source": [
    "import matplotlib.pyplot as plt\n",
    "frequency= mon_data['여자']\n",
    "labels= mon_data['월 가구소득']\n",
    "plt.rc('font', family='Malgun Gothic') #한글로\n",
    "plt.pie(frequency, labels=labels, autopct='%.1f%%')\n",
    "plt.show()\n",
    "#남자와 비슷하다"
   ]
  },
  {
   "cell_type": "code",
   "execution_count": 219,
   "id": "3bdaa7e0",
   "metadata": {},
   "outputs": [
    {
     "data": {
      "image/png": "[encoded data removed]",
      "text/plain": [
       "<Figure size 432x288 with 1 Axes>"
      ]
     },
     "metadata": {},
     "output_type": "display_data"
    }
   ],
   "source": [
    "frequency=list(map(lambda x:x[:-6] if x!=0 else 0,mon_data['전체표준오차'].values))\n",
    "labels=mon_data['월 가구소득']\n",
    "plt.rc('font', family='Malgun Gothic') #한글로\n",
    "plt.pie(frequency, labels=labels, autopct='%.1f%%')\n",
    "plt.show()\n",
    "#가장 N이 많은 400만원 이상이 평균과 가장 가깝고 100만원 이하가 가장 평균과 동떨어져있다."
   ]
  },
  {
   "cell_type": "code",
   "execution_count": 220,
   "id": "71466839",
   "metadata": {},
   "outputs": [
    {
     "data": {
      "image/png": "[encoded data removed]",
      "text/plain": [
       "<Figure size 432x288 with 1 Axes>"
      ]
     },
     "metadata": {},
     "output_type": "display_data"
    }
   ],
   "source": [
    "frequency=mon_data['전체상대표준오차'].values\n",
    "labels=mon_data['월 가구소득']\n",
    "plt.rc('font', family='Malgun Gothic') #한글로\n",
    "plt.pie(frequency, labels=labels, autopct='%.1f%%')\n",
    "plt.show()\n",
    "#100만원 미만이 가장 신뢰성이 높고 400만원 이상이 가장 신뢰성이 적다."
   ]
  },
  {
   "cell_type": "code",
   "execution_count": 221,
   "id": "08f96ce9",
   "metadata": {},
   "outputs": [
    {
     "data": {
      "text/plain": [
       "Index(['코로나19로 인한 가구소득 변화', 'N', '전체표준오차', '전체상대표준오차', '남자', '표준오차', '상대표준오차',\n",
       "       '여자', '표준오차', '상대표준오차'],\n",
       "      dtype='object', name=33)"
      ]
     },
     "execution_count": 221,
     "metadata": {},
     "output_type": "execute_result"
    }
   ],
   "source": [
    "cor_data=index(cor_data)\n",
    "cor_data.columns"
   ]
  },
  {
   "cell_type": "markdown",
   "id": "aaaf2f52",
   "metadata": {},
   "source": [
    "월 가구소득별 전체 분포"
   ]
  },
  {
   "cell_type": "code",
   "execution_count": 223,
   "id": "22bc4aa2",
   "metadata": {},
   "outputs": [
    {
     "data": {
      "image/png": "[encoded data removed]",
      "text/plain": [
       "<Figure size 432x288 with 1 Axes>"
      ]
     },
     "metadata": {},
     "output_type": "display_data"
    }
   ],
   "source": [
    "import matplotlib.pyplot as plt\n",
    "labels= cor_data['코로나19로 인한 가구소득 변화']\n",
    "frequency=cor_data['N'].values\n",
    "plt.rc('font', family='Malgun Gothic') #한글로\n",
    "plt.pie(frequency, labels=labels, autopct='%.1f%%')\n",
    "plt.show()\n",
    "#400만원이상이 가장 많았다."
   ]
  },
  {
   "cell_type": "markdown",
   "id": "58af4d85",
   "metadata": {},
   "source": [
    "월 가구소득별 남자 분포"
   ]
  },
  {
   "cell_type": "code",
   "execution_count": 224,
   "id": "c0bbd19e",
   "metadata": {},
   "outputs": [
    {
     "data": {
      "image/png": "[encoded data removed]",
      "text/plain": [
       "<Figure size 432x288 with 1 Axes>"
      ]
     },
     "metadata": {},
     "output_type": "display_data"
    }
   ],
   "source": [
    "import matplotlib.pyplot as plt\n",
    "frequency= cor_data['남자']\n",
    "labels= cor_data['코로나19로 인한 가구소득 변화']\n",
    "plt.rc('font', family='Malgun Gothic') #한글로\n",
    "plt.pie(frequency, labels=labels, autopct='%.1f%%')\n",
    "plt.show()"
   ]
  },
  {
   "cell_type": "markdown",
   "id": "7b958aed",
   "metadata": {},
   "source": [
    "월 가구소득별 여자 분포"
   ]
  },
  {
   "cell_type": "code",
   "execution_count": 225,
   "id": "a679ccb8",
   "metadata": {},
   "outputs": [
    {
     "data": {
      "image/png": "[encoded data removed]",
      "text/plain": [
       "<Figure size 432x288 with 1 Axes>"
      ]
     },
     "metadata": {},
     "output_type": "display_data"
    }
   ],
   "source": [
    "import matplotlib.pyplot as plt\n",
    "frequency= cor_data['여자']\n",
    "labels= cor_data['코로나19로 인한 가구소득 변화']\n",
    "plt.rc('font', family='Malgun Gothic') #한글로\n",
    "plt.pie(frequency, labels=labels, autopct='%.1f%%')\n",
    "plt.show()\n",
    "#서비스업 종사자가 많은 여자분포에서 예상과는 다르게 월 가구소득이 변함이 없다는 응답이 많다."
   ]
  },
  {
   "cell_type": "code",
   "execution_count": 227,
   "id": "39e6fcc9",
   "metadata": {},
   "outputs": [
    {
     "data": {
      "image/png": "[encoded data removed]",
      "text/plain": [
       "<Figure size 432x288 with 1 Axes>"
      ]
     },
     "metadata": {},
     "output_type": "display_data"
    }
   ],
   "source": [
    "frequency=list(map(lambda x:x[:-6] if x!=0 else 0,cor_data['전체표준오차'].values))\n",
    "labels=cor_data['코로나19로 인한 가구소득 변화']\n",
    "plt.rc('font', family='Malgun Gothic') #한글로\n",
    "plt.pie(frequency, labels=labels, autopct='%.1f%%')\n",
    "plt.show()\n",
    "#대부분 변함이 없다고 답했다. 여기서 중요한 것은 늘어났다는 답이 없다는 것이다.\n",
    "#설문대상으로 IT업계 종사자를 추가할 필요가 있어보인다."
   ]
  },
  {
   "cell_type": "code",
   "execution_count": 229,
   "id": "5db379c4",
   "metadata": {},
   "outputs": [
    {
     "data": {
      "image/png": "[encoded data removed]",
      "text/plain": [
       "<Figure size 432x288 with 1 Axes>"
      ]
     },
     "metadata": {},
     "output_type": "display_data"
    }
   ],
   "source": [
    "frequency=cor_data['전체상대표준오차'].values\n",
    "labels=cor_data['코로나19로 인한 가구소득 변화']\n",
    "plt.rc('font', family='Malgun Gothic') #한글로\n",
    "plt.pie(frequency, labels=labels, autopct='%.1f%%')\n",
    "plt.show()\n",
    "#변함이 없다는 신뢰성이 약간 없다."
   ]
  },
  {
   "cell_type": "code",
   "execution_count": 230,
   "id": "71593ab8",
   "metadata": {},
   "outputs": [
    {
     "data": {
      "text/plain": [
       "Index(['코로나19로 인한 가구 필수 소비지출변화', 'N', '전체표준오차', '전체상대표준오차', '남자', '표준오차',\n",
       "       '상대표준오차', '여자', '표준오차', '상대표준오차'],\n",
       "      dtype='object', name=37)"
      ]
     },
     "execution_count": 230,
     "metadata": {},
     "output_type": "execute_result"
    }
   ],
   "source": [
    "out_data=index(out_data)\n",
    "out_data.columns"
   ]
  },
  {
   "cell_type": "markdown",
   "id": "30e9a677",
   "metadata": {},
   "source": [
    "소비지출변화별 전체 분포"
   ]
  },
  {
   "cell_type": "code",
   "execution_count": 231,
   "id": "590e6792",
   "metadata": {},
   "outputs": [
    {
     "data": {
      "image/png": "[encoded data removed]",
      "text/plain": [
       "<Figure size 432x288 with 1 Axes>"
      ]
     },
     "metadata": {},
     "output_type": "display_data"
    }
   ],
   "source": [
    "import matplotlib.pyplot as plt\n",
    "labels= out_data['코로나19로 인한 가구 필수 소비지출변화']\n",
    "frequency=out_data['N'].values\n",
    "plt.rc('font', family='Malgun Gothic') #한글로\n",
    "plt.pie(frequency, labels=labels, autopct='%.1f%%')\n",
    "plt.show()\n",
    "#400만원이상이 가장 많았다."
   ]
  },
  {
   "cell_type": "markdown",
   "id": "048d2ee8",
   "metadata": {},
   "source": [
    "소비지출변화별 남자 분포"
   ]
  },
  {
   "cell_type": "code",
   "execution_count": 232,
   "id": "f9a6d02a",
   "metadata": {},
   "outputs": [
    {
     "data": {
      "image/png": "[encoded data removed]",
      "text/plain": [
       "<Figure size 432x288 with 1 Axes>"
      ]
     },
     "metadata": {},
     "output_type": "display_data"
    }
   ],
   "source": [
    "import matplotlib.pyplot as plt\n",
    "frequency= out_data['남자']\n",
    "labels= out_data['코로나19로 인한 가구 필수 소비지출변화']\n",
    "plt.rc('font', family='Malgun Gothic') #한글로\n",
    "plt.pie(frequency, labels=labels, autopct='%.1f%%')\n",
    "plt.show()"
   ]
  },
  {
   "cell_type": "markdown",
   "id": "e2e625c0",
   "metadata": {},
   "source": [
    "소비지출변화별 여자 분포"
   ]
  },
  {
   "cell_type": "code",
   "execution_count": 233,
   "id": "0960925a",
   "metadata": {},
   "outputs": [
    {
     "data": {
      "image/png": "[encoded data removed]",
      "text/plain": [
       "<Figure size 432x288 with 1 Axes>"
      ]
     },
     "metadata": {},
     "output_type": "display_data"
    }
   ],
   "source": [
    "import matplotlib.pyplot as plt\n",
    "frequency= out_data['여자']\n",
    "labels= out_data['코로나19로 인한 가구 필수 소비지출변화']\n",
    "plt.rc('font', family='Malgun Gothic') #한글로\n",
    "plt.pie(frequency, labels=labels, autopct='%.1f%%')\n",
    "plt.show()"
   ]
  },
  {
   "cell_type": "code",
   "execution_count": 235,
   "id": "317f6d90",
   "metadata": {},
   "outputs": [
    {
     "data": {
      "image/png": "[encoded data removed]",
      "text/plain": [
       "<Figure size 432x288 with 1 Axes>"
      ]
     },
     "metadata": {},
     "output_type": "display_data"
    }
   ],
   "source": [
    "frequency=list(map(lambda x:x[:-6] if x!=0 else 0,out_data['전체표준오차'].values))\n",
    "labels=out_data['코로나19로 인한 가구 필수 소비지출변화']\n",
    "plt.rc('font', family='Malgun Gothic') #한글로\n",
    "plt.pie(frequency, labels=labels, autopct='%.1f%%')\n",
    "plt.show()\n",
    "#줄어들엇다는 응답은 없었다."
   ]
  },
  {
   "cell_type": "code",
   "execution_count": 236,
   "id": "fc43d68e",
   "metadata": {},
   "outputs": [
    {
     "data": {
      "image/png": "[encoded data removed]",
      "text/plain": [
       "<Figure size 432x288 with 1 Axes>"
      ]
     },
     "metadata": {},
     "output_type": "display_data"
    }
   ],
   "source": [
    "frequency=out_data['전체상대표준오차'].values\n",
    "labels=out_data['코로나19로 인한 가구 필수 소비지출변화']\n",
    "plt.rc('font', family='Malgun Gothic') #한글로\n",
    "plt.pie(frequency, labels=labels, autopct='%.1f%%')\n",
    "plt.show()\n",
    "#수입과 동일하게 지출도 변함이 없다가 약간 신뢰성이 없음을 알 수 있었다."
   ]
  },
  {
   "cell_type": "code",
   "execution_count": 237,
   "id": "8b53a047",
   "metadata": {},
   "outputs": [
    {
     "data": {
      "text/plain": [
       "Index(['거주유형', 'N', '전체표준오차', '전체상대표준오차', '남자', '표준오차', '상대표준오차', '여자', '표준오차',\n",
       "       '상대표준오차'],\n",
       "      dtype='object', name=41)"
      ]
     },
     "execution_count": 237,
     "metadata": {},
     "output_type": "execute_result"
    }
   ],
   "source": [
    "liv_data=index(liv_data)\n",
    "liv_data.columns"
   ]
  },
  {
   "cell_type": "markdown",
   "id": "37f6f223",
   "metadata": {},
   "source": [
    "거주유형별 전체 분포"
   ]
  },
  {
   "cell_type": "code",
   "execution_count": 238,
   "id": "5de4a5d5",
   "metadata": {},
   "outputs": [
    {
     "data": {
      "image/png": "[encoded data removed]",
      "text/plain": [
       "<Figure size 432x288 with 1 Axes>"
      ]
     },
     "metadata": {},
     "output_type": "display_data"
    }
   ],
   "source": [
    "import matplotlib.pyplot as plt\n",
    "labels= liv_data['거주유형']\n",
    "frequency=liv_data['N'].values\n",
    "plt.rc('font', family='Malgun Gothic') #한글로\n",
    "plt.pie(frequency, labels=labels, autopct='%.1f%%')\n",
    "plt.show()\n",
    "#읍-면이 더 많은 것으로 보아 대부분 소도시에 사는 사람들을 대상으로 하였다."
   ]
  },
  {
   "cell_type": "markdown",
   "id": "805c71bd",
   "metadata": {},
   "source": [
    "거주유형별 남자 분포"
   ]
  },
  {
   "cell_type": "code",
   "execution_count": 240,
   "id": "9c30137e",
   "metadata": {},
   "outputs": [
    {
     "data": {
      "image/png": "[encoded data removed]",
      "text/plain": [
       "<Figure size 432x288 with 1 Axes>"
      ]
     },
     "metadata": {},
     "output_type": "display_data"
    }
   ],
   "source": [
    "import matplotlib.pyplot as plt\n",
    "labels= liv_data['거주유형']\n",
    "frequency=liv_data['남자'].values\n",
    "plt.rc('font', family='Malgun Gothic') #한글로\n",
    "plt.pie(frequency, labels=labels, autopct='%.1f%%')\n",
    "plt.show()\n",
    "#남자와 전체 분포는 차이가 없다."
   ]
  },
  {
   "cell_type": "markdown",
   "id": "10a9c464",
   "metadata": {},
   "source": [
    "거주유형별 여자 분포"
   ]
  },
  {
   "cell_type": "code",
   "execution_count": 241,
   "id": "1adc17cd",
   "metadata": {},
   "outputs": [
    {
     "data": {
      "image/png": "[encoded data removed]",
      "text/plain": [
       "<Figure size 432x288 with 1 Axes>"
      ]
     },
     "metadata": {},
     "output_type": "display_data"
    }
   ],
   "source": [
    "import matplotlib.pyplot as plt\n",
    "labels= liv_data['거주유형']\n",
    "frequency=liv_data['여자'].values\n",
    "plt.rc('font', family='Malgun Gothic') #한글로\n",
    "plt.pie(frequency, labels=labels, autopct='%.1f%%')\n",
    "plt.show()\n",
    "#여자와 전체 분포는 다소 차이가 있었다."
   ]
  },
  {
   "cell_type": "code",
   "execution_count": 243,
   "id": "cff4ee53",
   "metadata": {},
   "outputs": [
    {
     "data": {
      "image/png": "[encoded data removed]",
      "text/plain": [
       "<Figure size 432x288 with 1 Axes>"
      ]
     },
     "metadata": {},
     "output_type": "display_data"
    }
   ],
   "source": [
    "frequency=list(map(lambda x:x[:-6] if x!=0 else 0,liv_data['전체표준오차'].values))\n",
    "labels=liv_data['거주유형']\n",
    "plt.rc('font', family='Malgun Gothic') #한글로\n",
    "plt.pie(frequency, labels=labels, autopct='%.1f%%')\n",
    "plt.show()\n",
    "#동에 사는 조사대상자들은 평균을 잘 대표한다."
   ]
  },
  {
   "cell_type": "code",
   "execution_count": 244,
   "id": "88caf557",
   "metadata": {},
   "outputs": [
    {
     "data": {
      "image/png": "[encoded data removed]",
      "text/plain": [
       "<Figure size 432x288 with 1 Axes>"
      ]
     },
     "metadata": {},
     "output_type": "display_data"
    }
   ],
   "source": [
    "frequency=liv_data['전체상대표준오차'].values\n",
    "labels=liv_data['거주유형']\n",
    "plt.rc('font', family='Malgun Gothic') #한글로\n",
    "plt.pie(frequency, labels=labels, autopct='%.1f%%')\n",
    "plt.show()\n",
    "#읍-면 거주 조사대상자에 대한 응답은 신뢰도가 높다."
   ]
  },
  {
   "cell_type": "code",
   "execution_count": null,
   "id": "ea3573e7",
   "metadata": {},
   "outputs": [],
   "source": []
  }
 ],
 "metadata": {
  "kernelspec": {
   "display_name": "Python 3 (ipykernel)",
   "language": "python",
   "name": "python3"
  },
  "language_info": {
   "codemirror_mode": {
    "name": "ipython",
    "version": 3
   },
   "file_extension": ".py",
   "mimetype": "text/x-python",
   "name": "python",
   "nbconvert_exporter": "python",
   "pygments_lexer": "ipython3",
   "version": "3.9.7"
  }
 },
 "nbformat": 4,
 "nbformat_minor": 5
}
